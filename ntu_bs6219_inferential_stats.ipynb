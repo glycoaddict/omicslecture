{
  "nbformat": 4,
  "nbformat_minor": 0,
  "metadata": {
    "colab": {
      "name": "ntu-bs6219-inferential-stats.ipynb",
      "provenance": [],
      "collapsed_sections": [
        "KUhtxGlthwxg"
      ],
      "toc_visible": true,
      "authorship_tag": "ABX9TyPbe3dunhZC4QjhGdZugeDz",
      "include_colab_link": true
    },
    "kernelspec": {
      "name": "python3",
      "display_name": "Python 3"
    },
    "language_info": {
      "name": "python"
    }
  },
  "cells": [
    {
      "cell_type": "markdown",
      "metadata": {
        "id": "view-in-github",
        "colab_type": "text"
      },
      "source": [
        "<a href=\"https://colab.research.google.com/github/glycoaddict/omicslecture/blob/main/ntu_bs6219_inferential_stats.ipynb\" target=\"_parent\"><img src=\"https://colab.research.google.com/assets/colab-badge.svg\" alt=\"Open In Colab\"/></a>"
      ]
    },
    {
      "cell_type": "markdown",
      "source": [
        "\n",
        "# Installs and imports\n",
        "\n",
        "The statsmodels package on colab is not the most updated version. We must update it using the special `!` syntax to run command line commands.\n"
      ],
      "metadata": {
        "id": "4agdTNLtznb3"
      }
    },
    {
      "cell_type": "code",
      "source": [
        "# note that you usually need to restart the kernel after updating.\n",
        "\n",
        "!pip install statsmodels==0.13.2"
      ],
      "metadata": {
        "colab": {
          "base_uri": "https://localhost:8080/",
          "height": 453
        },
        "id": "ixS4yyKV9jOM",
        "outputId": "84ab6e67-3407-45ef-ab80-2ca3c7f0c378"
      },
      "execution_count": null,
      "outputs": [
        {
          "output_type": "stream",
          "name": "stdout",
          "text": [
            "Looking in indexes: https://pypi.org/simple, https://us-python.pkg.dev/colab-wheels/public/simple/\n",
            "Collecting statsmodels==0.13.2\n",
            "  Downloading statsmodels-0.13.2-cp37-cp37m-manylinux_2_17_x86_64.manylinux2014_x86_64.whl (9.8 MB)\n",
            "\u001b[K     |████████████████████████████████| 9.8 MB 4.3 MB/s \n",
            "\u001b[?25hRequirement already satisfied: numpy>=1.17 in /usr/local/lib/python3.7/dist-packages (from statsmodels==0.13.2) (1.21.6)\n",
            "Requirement already satisfied: scipy>=1.3 in /usr/local/lib/python3.7/dist-packages (from statsmodels==0.13.2) (1.7.3)\n",
            "Requirement already satisfied: packaging>=21.3 in /usr/local/lib/python3.7/dist-packages (from statsmodels==0.13.2) (21.3)\n",
            "Requirement already satisfied: patsy>=0.5.2 in /usr/local/lib/python3.7/dist-packages (from statsmodels==0.13.2) (0.5.2)\n",
            "Requirement already satisfied: pandas>=0.25 in /usr/local/lib/python3.7/dist-packages (from statsmodels==0.13.2) (1.3.5)\n",
            "Requirement already satisfied: pyparsing!=3.0.5,>=2.0.2 in /usr/local/lib/python3.7/dist-packages (from packaging>=21.3->statsmodels==0.13.2) (3.0.9)\n",
            "Requirement already satisfied: pytz>=2017.3 in /usr/local/lib/python3.7/dist-packages (from pandas>=0.25->statsmodels==0.13.2) (2022.1)\n",
            "Requirement already satisfied: python-dateutil>=2.7.3 in /usr/local/lib/python3.7/dist-packages (from pandas>=0.25->statsmodels==0.13.2) (2.8.2)\n",
            "Requirement already satisfied: six in /usr/local/lib/python3.7/dist-packages (from patsy>=0.5.2->statsmodels==0.13.2) (1.15.0)\n",
            "Installing collected packages: statsmodels\n",
            "  Attempting uninstall: statsmodels\n",
            "    Found existing installation: statsmodels 0.10.2\n",
            "    Uninstalling statsmodels-0.10.2:\n",
            "      Successfully uninstalled statsmodels-0.10.2\n",
            "Successfully installed statsmodels-0.13.2\n"
          ]
        },
        {
          "output_type": "display_data",
          "data": {
            "application/vnd.colab-display-data+json": {
              "pip_warning": {
                "packages": [
                  "statsmodels"
                ]
              }
            }
          },
          "metadata": {}
        }
      ]
    },
    {
      "cell_type": "code",
      "execution_count": null,
      "metadata": {
        "colab": {
          "base_uri": "https://localhost:8080/"
        },
        "id": "zeBlGsoL7LRq",
        "outputId": "19033e85-1959-4c26-c09a-94b1fa9861a3"
      },
      "outputs": [
        {
          "output_type": "stream",
          "name": "stdout",
          "text": [
            "\n",
            "INSTALLED VERSIONS\n",
            "------------------\n",
            "Python: 3.7.13.final.0\n",
            "OS: Linux 5.4.188+ #1 SMP Sun Apr 24 10:03:06 PDT 2022 x86_64\n",
            "byteorder: little\n",
            "LC_ALL: None\n",
            "LANG: en_US.UTF-8\n",
            "\n",
            "statsmodels\n",
            "===========\n",
            "\n",
            "Installed: 0.13.2 (/usr/local/lib/python3.7/dist-packages/statsmodels)\n",
            "\n",
            "Required Dependencies\n",
            "=====================\n",
            "\n",
            "cython: 0.29.32 (/usr/local/lib/python3.7/dist-packages/Cython)\n",
            "numpy: 1.21.6 (/usr/local/lib/python3.7/dist-packages/numpy)\n",
            "scipy: 1.7.3 (/usr/local/lib/python3.7/dist-packages/scipy)\n",
            "pandas: 1.3.5 (/usr/local/lib/python3.7/dist-packages/pandas)\n",
            "    dateutil: 2.8.2 (/usr/local/lib/python3.7/dist-packages/dateutil)\n",
            "patsy: 0.5.2 (/usr/local/lib/python3.7/dist-packages/patsy)\n",
            "\n",
            "Optional Dependencies\n",
            "=====================\n",
            "\n",
            "matplotlib: 3.2.2 (/usr/local/lib/python3.7/dist-packages/matplotlib)\n",
            "    backend: module://ipykernel.pylab.backend_inline \n",
            "cvxopt: 1.3.0 (/usr/local/lib/python3.7/dist-packages/cvxopt)\n",
            "joblib: 1.1.0 (/usr/local/lib/python3.7/dist-packages/joblib)\n",
            "\n",
            "Developer Tools\n",
            "================\n",
            "\n",
            "IPython: 5.5.0 (/usr/local/lib/python3.7/dist-packages/IPython)\n",
            "    jinja2: 2.11.3 (/usr/local/lib/python3.7/dist-packages/jinja2)\n",
            "sphinx: 1.8.6 (/usr/local/lib/python3.7/dist-packages/sphinx)\n",
            "    pygments: 2.6.1 (/usr/local/lib/python3.7/dist-packages/pygments)\n",
            "pytest: 3.6.4 (/usr/local/lib/python3.7/dist-packages)\n",
            "virtualenv: Not installed\n",
            "\n",
            "\n",
            "None\n",
            "<function rank_compare_2indep at 0x7f60e910f440>\n"
          ]
        }
      ],
      "source": [
        "import pandas as pd\n",
        "import numpy as np\n",
        "import seaborn as sns\n",
        "import matplotlib.pyplot as plt\n",
        "\n",
        "import statsmodels.api as sm\n",
        "from statsmodels.stats.nonparametric import rank_compare_2indep\n",
        "import statsmodels.stats.weightstats as ws\n",
        "\n",
        "import scipy.stats as sps\n",
        "\n",
        "import sklearn.datasets as dt\n",
        "from sklearn.neighbors import KernelDensity\n",
        "\n",
        "# check the correct version is installed\n",
        "print(sm.show_versions()) \n",
        "\n",
        "print(rank_compare_2indep)\n",
        "\n",
        "sns.set(rc = {'figure.figsize':(20,10)}, font_scale=2.0)"
      ]
    },
    {
      "cell_type": "markdown",
      "source": [
        "# T-test for comparing means of two normally distributed, unpaired samples\n",
        "\n",
        "Null Hypothesis = no difference in mean"
      ],
      "metadata": {
        "id": "A_4mAPpBMbrV"
      }
    },
    {
      "cell_type": "markdown",
      "source": [
        "## Data Generation"
      ],
      "metadata": {
        "id": "Iuh-VCI_ii6q"
      }
    },
    {
      "cell_type": "markdown",
      "source": [
        "### setting random seed so we generate the same data"
      ],
      "metadata": {
        "id": "Lo2bXiKx0e4M"
      }
    },
    {
      "cell_type": "code",
      "source": [
        "seed = 11\n",
        "rand_state = 11\n",
        "rand = np.random.RandomState(seed)\n",
        "\n",
        "x = rand.normal(loc=0.0, scale=1.0, size=100)\n",
        "y = rand.normal(loc=0.1, scale=0.5, size=100)\n",
        "\n",
        "sns.histplot([x,y])\n",
        "\n",
        "this_instance_hash_x = hash(tuple(x))\n",
        "this_instance_hash_y = hash(tuple(y))\n",
        "this_instance_hash = this_instance_hash_x + this_instance_hash_y\n",
        "\n",
        "print(f'The hash of `x+y` in this instance is: {this_instance_hash}\\n\\nDoes it match with the expected? --> {(this_instance_hash == -3002633823347733113)}\\n')\n",
        "\n",
        "print('If this is False, re-initialise the random seed.')"
      ],
      "metadata": {
        "colab": {
          "base_uri": "https://localhost:8080/",
          "height": 695
        },
        "id": "vKzHIaJQ8OuZ",
        "outputId": "285fd787-b9e0-433c-c3d8-0bdf5152acfc"
      },
      "execution_count": null,
      "outputs": [
        {
          "output_type": "stream",
          "name": "stdout",
          "text": [
            "The hash of `x+y` in this instance is: -3002633823347733113\n",
            "\n",
            "Does it match with the expected? --> True\n",
            "\n",
            "If this is False, re-initialise the random seed.\n"
          ]
        },
        {
          "output_type": "display_data",
          "data": {
            "text/plain": [
              "<Figure size 1440x720 with 1 Axes>"
            ],
            "image/png": "[encoded data removed]"
          },
          "metadata": {}
        }
      ]
    },
    {
      "cell_type": "markdown",
      "source": [
        "## T-test"
      ],
      "metadata": {
        "id": "Gy7z6PbCirRJ"
      }
    },
    {
      "cell_type": "code",
      "source": [
        "eq_var = sps.ttest_ind(x,y, equal_var=True)\n",
        "diff_var = sps.ttest_ind(x,y, equal_var=False)\n",
        "one_tailed_less = sps.ttest_ind(x,y, equal_var=False, alternative='less')\n",
        "one_tailed_greater = sps.ttest_ind(x,y, equal_var=False, alternative='greater')\n",
        "\n",
        "pd.DataFrame([eq_var, diff_var, one_tailed_less, one_tailed_greater], index=['eq_var_Students', 'diff_var_Welchs', 'one_tailed_less', 'one_tailed_greater'])"
      ],
      "metadata": {
        "colab": {
          "base_uri": "https://localhost:8080/",
          "height": 175
        },
        "id": "7SuapdD8-mgT",
        "outputId": "5f9ef653-fb7e-4d85-8224-ebdea56af470"
      },
      "execution_count": null,
      "outputs": [
        {
          "output_type": "execute_result",
          "data": {
            "text/plain": [
              "                    statistic    pvalue\n",
              "eq_var_Students      -0.85915  0.391297\n",
              "diff_var_Welchs      -0.85915  0.391654\n",
              "one_tailed_less      -0.85915  0.195827\n",
              "one_tailed_greater   -0.85915  0.804173"
            ],
            "text/html": [
              "\n",
              "  <div id=\"df-361be191-109f-4003-8a3f-dd63a8094e38\">\n",
              "    <div class=\"colab-df-container\">\n",
              "      <div>\n",
              "<style scoped>\n",
              "    .dataframe tbody tr th:only-of-type {\n",
              "        vertical-align: middle;\n",
              "    }\n",
              "\n",
              "    .dataframe tbody tr th {\n",
              "        vertical-align: top;\n",
              "    }\n",
              "\n",
              "    .dataframe thead th {\n",
              "        text-align: right;\n",
              "    }\n",
              "</style>\n",
              "<table border=\"1\" class=\"dataframe\">\n",
              "  <thead>\n",
              "    <tr style=\"text-align: right;\">\n",
              "      <th></th>\n",
              "      <th>statistic</th>\n",
              "      <th>pvalue</th>\n",
              "    </tr>\n",
              "  </thead>\n",
              "  <tbody>\n",
              "    <tr>\n",
              "      <th>eq_var_Students</th>\n",
              "      <td>-0.85915</td>\n",
              "      <td>0.391297</td>\n",
              "    </tr>\n",
              "    <tr>\n",
              "      <th>diff_var_Welchs</th>\n",
              "      <td>-0.85915</td>\n",
              "      <td>0.391654</td>\n",
              "    </tr>\n",
              "    <tr>\n",
              "      <th>one_tailed_less</th>\n",
              "      <td>-0.85915</td>\n",
              "      <td>0.195827</td>\n",
              "    </tr>\n",
              "    <tr>\n",
              "      <th>one_tailed_greater</th>\n",
              "      <td>-0.85915</td>\n",
              "      <td>0.804173</td>\n",
              "    </tr>\n",
              "  </tbody>\n",
              "</table>\n",
              "</div>\n",
              "      <button class=\"colab-df-convert\" onclick=\"convertToInteractive('df-361be191-109f-4003-8a3f-dd63a8094e38')\"\n",
              "              title=\"Convert this dataframe to an interactive table.\"\n",
              "              style=\"display:none;\">\n",
              "        \n",
              "  <svg xmlns=\"http://www.w3.org/2000/svg\" height=\"24px\"viewBox=\"0 0 24 24\"\n",
              "       width=\"24px\">\n",
              "    <path d=\"M0 0h24v24H0V0z\" fill=\"none\"/>\n",
              "    <path d=\"M18.56 5.44l.94 2.06.94-2.06 2.06-.94-2.06-.94-.94-2.06-.94 2.06-2.06.94zm-11 1L8.5 8.5l.94-2.06 2.06-.94-2.06-.94L8.5 2.5l-.94 2.06-2.06.94zm10 10l.94 2.06.94-2.06 2.06-.94-2.06-.94-.94-2.06-.94 2.06-2.06.94z\"/><path d=\"M17.41 7.96l-1.37-1.37c-.4-.4-.92-.59-1.43-.59-.52 0-1.04.2-1.43.59L10.3 9.45l-7.72 7.72c-.78.78-.78 2.05 0 2.83L4 21.41c.39.39.9.59 1.41.59.51 0 1.02-.2 1.41-.59l7.78-7.78 2.81-2.81c.8-.78.8-2.07 0-2.86zM5.41 20L4 18.59l7.72-7.72 1.47 1.35L5.41 20z\"/>\n",
              "  </svg>\n",
              "      </button>\n",
              "      \n",
              "  <style>\n",
              "    .colab-df-container {\n",
              "      display:flex;\n",
              "      flex-wrap:wrap;\n",
              "      gap: 12px;\n",
              "    }\n",
              "\n",
              "    .colab-df-convert {\n",
              "      background-color: #E8F0FE;\n",
              "      border: none;\n",
              "      border-radius: 50%;\n",
              "      cursor: pointer;\n",
              "      display: none;\n",
              "      fill: #1967D2;\n",
              "      height: 32px;\n",
              "      padding: 0 0 0 0;\n",
              "      width: 32px;\n",
              "    }\n",
              "\n",
              "    .colab-df-convert:hover {\n",
              "      background-color: #E2EBFA;\n",
              "      box-shadow: 0px 1px 2px rgba(60, 64, 67, 0.3), 0px 1px 3px 1px rgba(60, 64, 67, 0.15);\n",
              "      fill: #174EA6;\n",
              "    }\n",
              "\n",
              "    [theme=dark] .colab-df-convert {\n",
              "      background-color: #3B4455;\n",
              "      fill: #D2E3FC;\n",
              "    }\n",
              "\n",
              "    [theme=dark] .colab-df-convert:hover {\n",
              "      background-color: #434B5C;\n",
              "      box-shadow: 0px 1px 3px 1px rgba(0, 0, 0, 0.15);\n",
              "      filter: drop-shadow(0px 1px 2px rgba(0, 0, 0, 0.3));\n",
              "      fill: #FFFFFF;\n",
              "    }\n",
              "  </style>\n",
              "\n",
              "      <script>\n",
              "        const buttonEl =\n",
              "          document.querySelector('#df-361be191-109f-4003-8a3f-dd63a8094e38 button.colab-df-convert');\n",
              "        buttonEl.style.display =\n",
              "          google.colab.kernel.accessAllowed ? 'block' : 'none';\n",
              "\n",
              "        async function convertToInteractive(key) {\n",
              "          const element = document.querySelector('#df-361be191-109f-4003-8a3f-dd63a8094e38');\n",
              "          const dataTable =\n",
              "            await google.colab.kernel.invokeFunction('convertToInteractive',\n",
              "                                                     [key], {});\n",
              "          if (!dataTable) return;\n",
              "\n",
              "          const docLinkHtml = 'Like what you see? Visit the ' +\n",
              "            '<a target=\"_blank\" href=https://colab.research.google.com/notebooks/data_table.ipynb>data table notebook</a>'\n",
              "            + ' to learn more about interactive tables.';\n",
              "          element.innerHTML = '';\n",
              "          dataTable['output_type'] = 'display_data';\n",
              "          await google.colab.output.renderOutput(dataTable, element);\n",
              "          const docLink = document.createElement('div');\n",
              "          docLink.innerHTML = docLinkHtml;\n",
              "          element.appendChild(docLink);\n",
              "        }\n",
              "      </script>\n",
              "    </div>\n",
              "  </div>\n",
              "  "
            ]
          },
          "metadata": {},
          "execution_count": 4
        }
      ]
    },
    {
      "cell_type": "markdown",
      "source": [
        "## how does Welch's test compare with Student's T-test?\n",
        "\n",
        "Recall that Welch's Test is for *unequal* variances\n",
        "\n",
        "To illustrate the difference, we are going to generate many sets of data and run both the Welch's and Student's T-tests.\n",
        "\n",
        "`N` is the number of observations generated for the first sample. The second sample will have 40% fewer observations, just so we have unequal numbers and variances."
      ],
      "metadata": {
        "id": "3BgPUwLl2nD4"
      }
    },
    {
      "cell_type": "markdown",
      "source": [
        "### Generate data of unequal variance, number, and run tests on them"
      ],
      "metadata": {
        "id": "-KGYZZz3jv6T"
      }
    },
    {
      "cell_type": "code",
      "source": [
        "seed = 11\n",
        "rand_state = 11\n",
        "rand = np.random.RandomState(seed)\n",
        "\n",
        "list_of_pvalues = []\n",
        "stored_xy = []\n",
        "\n",
        "for i in range(15,31,1):\n",
        "    # i=20\n",
        "    N = i*5\n",
        "    N2 = i*3\n",
        "\n",
        "    # generate normally distributed data about a mean, with SD specified, and number of observations\n",
        "    x = rand.normal(loc=0.0, scale=1.0, size=N)\n",
        "    y = rand.normal(loc=0.25, scale=0.5, size=N2)\n",
        "\n",
        "    if (N==110) or (N==130):\n",
        "        stored_xy.append([N, x, y])\n",
        "\n",
        "    ##### STATISTICAL TESTS HERE ######\n",
        "    eq_var = sps.ttest_ind(x,y, equal_var=True)\n",
        "    diff_var = sps.ttest_ind(x,y, equal_var=False)    \n",
        "\n",
        "    list_of_pvalues.append([N, 'eq_var', eq_var.pvalue])\n",
        "    list_of_pvalues.append([N, 'diff_var', diff_var.pvalue])\n",
        "\n",
        "df_pvalues = pd.DataFrame(list_of_pvalues, columns=['N', 'var', 'p-value'])\n",
        "\n",
        "df_pvalues.head()"
      ],
      "metadata": {
        "colab": {
          "base_uri": "https://localhost:8080/",
          "height": 206
        },
        "id": "TH5wweYG3huy",
        "outputId": "b090d523-670f-42d9-c537-1718d1eff250"
      },
      "execution_count": null,
      "outputs": [
        {
          "output_type": "execute_result",
          "data": {
            "text/plain": [
              "    N       var   p-value\n",
              "0  75    eq_var  0.112909\n",
              "1  75  diff_var  0.072666\n",
              "2  80    eq_var  0.122362\n",
              "3  80  diff_var  0.080707\n",
              "4  85    eq_var  0.056816"
            ],
            "text/html": [
              "\n",
              "  <div id=\"df-5616c53f-3176-4110-9b82-6d3c460e99ee\">\n",
              "    <div class=\"colab-df-container\">\n",
              "      <div>\n",
              "<style scoped>\n",
              "    .dataframe tbody tr th:only-of-type {\n",
              "        vertical-align: middle;\n",
              "    }\n",
              "\n",
              "    .dataframe tbody tr th {\n",
              "        vertical-align: top;\n",
              "    }\n",
              "\n",
              "    .dataframe thead th {\n",
              "        text-align: right;\n",
              "    }\n",
              "</style>\n",
              "<table border=\"1\" class=\"dataframe\">\n",
              "  <thead>\n",
              "    <tr style=\"text-align: right;\">\n",
              "      <th></th>\n",
              "      <th>N</th>\n",
              "      <th>var</th>\n",
              "      <th>p-value</th>\n",
              "    </tr>\n",
              "  </thead>\n",
              "  <tbody>\n",
              "    <tr>\n",
              "      <th>0</th>\n",
              "      <td>75</td>\n",
              "      <td>eq_var</td>\n",
              "      <td>0.112909</td>\n",
              "    </tr>\n",
              "    <tr>\n",
              "      <th>1</th>\n",
              "      <td>75</td>\n",
              "      <td>diff_var</td>\n",
              "      <td>0.072666</td>\n",
              "    </tr>\n",
              "    <tr>\n",
              "      <th>2</th>\n",
              "      <td>80</td>\n",
              "      <td>eq_var</td>\n",
              "      <td>0.122362</td>\n",
              "    </tr>\n",
              "    <tr>\n",
              "      <th>3</th>\n",
              "      <td>80</td>\n",
              "      <td>diff_var</td>\n",
              "      <td>0.080707</td>\n",
              "    </tr>\n",
              "    <tr>\n",
              "      <th>4</th>\n",
              "      <td>85</td>\n",
              "      <td>eq_var</td>\n",
              "      <td>0.056816</td>\n",
              "    </tr>\n",
              "  </tbody>\n",
              "</table>\n",
              "</div>\n",
              "      <button class=\"colab-df-convert\" onclick=\"convertToInteractive('df-5616c53f-3176-4110-9b82-6d3c460e99ee')\"\n",
              "              title=\"Convert this dataframe to an interactive table.\"\n",
              "              style=\"display:none;\">\n",
              "        \n",
              "  <svg xmlns=\"http://www.w3.org/2000/svg\" height=\"24px\"viewBox=\"0 0 24 24\"\n",
              "       width=\"24px\">\n",
              "    <path d=\"M0 0h24v24H0V0z\" fill=\"none\"/>\n",
              "    <path d=\"M18.56 5.44l.94 2.06.94-2.06 2.06-.94-2.06-.94-.94-2.06-.94 2.06-2.06.94zm-11 1L8.5 8.5l.94-2.06 2.06-.94-2.06-.94L8.5 2.5l-.94 2.06-2.06.94zm10 10l.94 2.06.94-2.06 2.06-.94-2.06-.94-.94-2.06-.94 2.06-2.06.94z\"/><path d=\"M17.41 7.96l-1.37-1.37c-.4-.4-.92-.59-1.43-.59-.52 0-1.04.2-1.43.59L10.3 9.45l-7.72 7.72c-.78.78-.78 2.05 0 2.83L4 21.41c.39.39.9.59 1.41.59.51 0 1.02-.2 1.41-.59l7.78-7.78 2.81-2.81c.8-.78.8-2.07 0-2.86zM5.41 20L4 18.59l7.72-7.72 1.47 1.35L5.41 20z\"/>\n",
              "  </svg>\n",
              "      </button>\n",
              "      \n",
              "  <style>\n",
              "    .colab-df-container {\n",
              "      display:flex;\n",
              "      flex-wrap:wrap;\n",
              "      gap: 12px;\n",
              "    }\n",
              "\n",
              "    .colab-df-convert {\n",
              "      background-color: #E8F0FE;\n",
              "      border: none;\n",
              "      border-radius: 50%;\n",
              "      cursor: pointer;\n",
              "      display: none;\n",
              "      fill: #1967D2;\n",
              "      height: 32px;\n",
              "      padding: 0 0 0 0;\n",
              "      width: 32px;\n",
              "    }\n",
              "\n",
              "    .colab-df-convert:hover {\n",
              "      background-color: #E2EBFA;\n",
              "      box-shadow: 0px 1px 2px rgba(60, 64, 67, 0.3), 0px 1px 3px 1px rgba(60, 64, 67, 0.15);\n",
              "      fill: #174EA6;\n",
              "    }\n",
              "\n",
              "    [theme=dark] .colab-df-convert {\n",
              "      background-color: #3B4455;\n",
              "      fill: #D2E3FC;\n",
              "    }\n",
              "\n",
              "    [theme=dark] .colab-df-convert:hover {\n",
              "      background-color: #434B5C;\n",
              "      box-shadow: 0px 1px 3px 1px rgba(0, 0, 0, 0.15);\n",
              "      filter: drop-shadow(0px 1px 2px rgba(0, 0, 0, 0.3));\n",
              "      fill: #FFFFFF;\n",
              "    }\n",
              "  </style>\n",
              "\n",
              "      <script>\n",
              "        const buttonEl =\n",
              "          document.querySelector('#df-5616c53f-3176-4110-9b82-6d3c460e99ee button.colab-df-convert');\n",
              "        buttonEl.style.display =\n",
              "          google.colab.kernel.accessAllowed ? 'block' : 'none';\n",
              "\n",
              "        async function convertToInteractive(key) {\n",
              "          const element = document.querySelector('#df-5616c53f-3176-4110-9b82-6d3c460e99ee');\n",
              "          const dataTable =\n",
              "            await google.colab.kernel.invokeFunction('convertToInteractive',\n",
              "                                                     [key], {});\n",
              "          if (!dataTable) return;\n",
              "\n",
              "          const docLinkHtml = 'Like what you see? Visit the ' +\n",
              "            '<a target=\"_blank\" href=https://colab.research.google.com/notebooks/data_table.ipynb>data table notebook</a>'\n",
              "            + ' to learn more about interactive tables.';\n",
              "          element.innerHTML = '';\n",
              "          dataTable['output_type'] = 'display_data';\n",
              "          await google.colab.output.renderOutput(dataTable, element);\n",
              "          const docLink = document.createElement('div');\n",
              "          docLink.innerHTML = docLinkHtml;\n",
              "          element.appendChild(docLink);\n",
              "        }\n",
              "      </script>\n",
              "    </div>\n",
              "  </div>\n",
              "  "
            ]
          },
          "metadata": {},
          "execution_count": 358
        }
      ]
    },
    {
      "cell_type": "markdown",
      "source": [
        "### Visualise the results "
      ],
      "metadata": {
        "id": "dT4NZneQjonU"
      }
    },
    {
      "cell_type": "code",
      "source": [
        "ax = sns.lineplot(\n",
        "    data=df_pvalues,\n",
        "    x='N',\n",
        "    y='p-value',\n",
        "    hue='var',\n",
        ")\n",
        "\n",
        "ax.axhline(0.05, ls='--', c='k')"
      ],
      "metadata": {
        "colab": {
          "base_uri": "https://localhost:8080/",
          "height": 650
        },
        "id": "bkN1nPct4K74",
        "outputId": "c19fa6db-028b-402b-f7af-def1b443b257"
      },
      "execution_count": null,
      "outputs": [
        {
          "output_type": "execute_result",
          "data": {
            "text/plain": [
              "<matplotlib.lines.Line2D at 0x7f783a50bc50>"
            ]
          },
          "metadata": {},
          "execution_count": 359
        },
        {
          "output_type": "display_data",
          "data": {
            "text/plain": [
              "<Figure size 1440x720 with 1 Axes>"
            ],
            "image/png": "[encoded data removed]"
          },
          "metadata": {}
        }
      ]
    },
    {
      "cell_type": "markdown",
      "source": [
        "observe that the Welch's T-test (`diff_var`) performs better for this dataset with different variance.\n",
        "\n",
        "You may try on datasets with equal variance, but generally for real world data the Welch's Test tends to out-perform the Student's test."
      ],
      "metadata": {
        "id": "sacgEw1lhZyK"
      }
    },
    {
      "cell_type": "markdown",
      "source": [
        "## (aside) we can observe the difference in the P-values due to the random number generator\n",
        "\n",
        "Compare N=110 (high P value) with N=130 (low P-value)\n",
        "\n",
        "Recall that these randomly generated data have the same mean and SD but due to random sampling, they just \"happen\" to be significant or non-significant.\n",
        "\n",
        "We can see how sensitive statistical \"significance\" is to sampling."
      ],
      "metadata": {
        "id": "EFzrqOCCGBD2"
      }
    },
    {
      "cell_type": "code",
      "source": [
        "ax = sns.histplot(\n",
        "    data=pd.DataFrame(stored_xy[0][1:]).T,\n",
        ")\n",
        "\n",
        "ax.set_title('P = 0.20')\n"
      ],
      "metadata": {
        "colab": {
          "base_uri": "https://localhost:8080/",
          "height": 647
        },
        "id": "jiofPZyH8xaC",
        "outputId": "eeb8a9f0-55da-4302-be04-306ff08dc76b"
      },
      "execution_count": null,
      "outputs": [
        {
          "output_type": "execute_result",
          "data": {
            "text/plain": [
              "Text(0.5, 1.0, 'P = 0.20')"
            ]
          },
          "metadata": {},
          "execution_count": 360
        },
        {
          "output_type": "display_data",
          "data": {
            "text/plain": [
              "<Figure size 1440x720 with 1 Axes>"
            ],
            "image/png": "[encoded data removed]"
          },
          "metadata": {}
        }
      ]
    },
    {
      "cell_type": "code",
      "source": [
        "ax = sns.histplot(\n",
        "    data=pd.DataFrame(stored_xy[1][1:]).T,\n",
        ")\n",
        "\n",
        "ax.set_title('P = 0.001')"
      ],
      "metadata": {
        "colab": {
          "base_uri": "https://localhost:8080/",
          "height": 647
        },
        "id": "8pCrR9lw-2ji",
        "outputId": "ce5734ee-71f3-4308-9499-d37153f82094"
      },
      "execution_count": null,
      "outputs": [
        {
          "output_type": "execute_result",
          "data": {
            "text/plain": [
              "Text(0.5, 1.0, 'P = 0.001')"
            ]
          },
          "metadata": {},
          "execution_count": 361
        },
        {
          "output_type": "display_data",
          "data": {
            "text/plain": [
              "<Figure size 1440x720 with 1 Axes>"
            ],
            "image/png": "[encoded data removed]"
          },
          "metadata": {}
        }
      ]
    },
    {
      "cell_type": "markdown",
      "source": [
        "## optional to use the `statsmodels` library."
      ],
      "metadata": {
        "id": "KUhtxGlthwxg"
      }
    },
    {
      "cell_type": "code",
      "source": [
        "# eq_var = ws.ttest_ind(x,y, usevar='pooled')\n",
        "# diff_var = ws.ttest_ind(x,y, usevar='unequal')\n",
        "# one_tailed_less = ws.ttest_ind(x,y, usevar='unequal', alternative='smaller')\n",
        "# one_tailed_greater = ws.ttest_ind(x,y, usevar='unequal', alternative='larger')\n",
        "\n",
        "# pd.DataFrame([eq_var, diff_var, one_tailed_less, one_tailed_greater], \n",
        "#              index=['eq_var_Students', 'diff_var_Welchs', 'one_tailed_less', 'one_tailed_greater'],\n",
        "#              columns=['tstat', 'pvalue', 'df'],\n",
        "#              )"
      ],
      "metadata": {
        "colab": {
          "base_uri": "https://localhost:8080/",
          "height": 175
        },
        "id": "C0Ys1D6d0_lP",
        "outputId": "40db4b4c-25d6-46d5-ca81-fc1b77462808"
      },
      "execution_count": null,
      "outputs": [
        {
          "output_type": "execute_result",
          "data": {
            "text/plain": [
              "                       tstat    pvalue          df\n",
              "eq_var_Students    -0.230655  0.817821  198.000000\n",
              "diff_var_Welchs    -0.230655  0.817908  144.907186\n",
              "one_tailed_less    -0.230655  0.408954  144.907186\n",
              "one_tailed_greater -0.230655  0.591046  144.907186"
            ],
            "text/html": [
              "\n",
              "  <div id=\"df-1e1fcc0f-9885-4840-bb63-32cb336e551e\">\n",
              "    <div class=\"colab-df-container\">\n",
              "      <div>\n",
              "<style scoped>\n",
              "    .dataframe tbody tr th:only-of-type {\n",
              "        vertical-align: middle;\n",
              "    }\n",
              "\n",
              "    .dataframe tbody tr th {\n",
              "        vertical-align: top;\n",
              "    }\n",
              "\n",
              "    .dataframe thead th {\n",
              "        text-align: right;\n",
              "    }\n",
              "</style>\n",
              "<table border=\"1\" class=\"dataframe\">\n",
              "  <thead>\n",
              "    <tr style=\"text-align: right;\">\n",
              "      <th></th>\n",
              "      <th>tstat</th>\n",
              "      <th>pvalue</th>\n",
              "      <th>df</th>\n",
              "    </tr>\n",
              "  </thead>\n",
              "  <tbody>\n",
              "    <tr>\n",
              "      <th>eq_var_Students</th>\n",
              "      <td>-0.230655</td>\n",
              "      <td>0.817821</td>\n",
              "      <td>198.000000</td>\n",
              "    </tr>\n",
              "    <tr>\n",
              "      <th>diff_var_Welchs</th>\n",
              "      <td>-0.230655</td>\n",
              "      <td>0.817908</td>\n",
              "      <td>144.907186</td>\n",
              "    </tr>\n",
              "    <tr>\n",
              "      <th>one_tailed_less</th>\n",
              "      <td>-0.230655</td>\n",
              "      <td>0.408954</td>\n",
              "      <td>144.907186</td>\n",
              "    </tr>\n",
              "    <tr>\n",
              "      <th>one_tailed_greater</th>\n",
              "      <td>-0.230655</td>\n",
              "      <td>0.591046</td>\n",
              "      <td>144.907186</td>\n",
              "    </tr>\n",
              "  </tbody>\n",
              "</table>\n",
              "</div>\n",
              "      <button class=\"colab-df-convert\" onclick=\"convertToInteractive('df-1e1fcc0f-9885-4840-bb63-32cb336e551e')\"\n",
              "              title=\"Convert this dataframe to an interactive table.\"\n",
              "              style=\"display:none;\">\n",
              "        \n",
              "  <svg xmlns=\"http://www.w3.org/2000/svg\" height=\"24px\"viewBox=\"0 0 24 24\"\n",
              "       width=\"24px\">\n",
              "    <path d=\"M0 0h24v24H0V0z\" fill=\"none\"/>\n",
              "    <path d=\"M18.56 5.44l.94 2.06.94-2.06 2.06-.94-2.06-.94-.94-2.06-.94 2.06-2.06.94zm-11 1L8.5 8.5l.94-2.06 2.06-.94-2.06-.94L8.5 2.5l-.94 2.06-2.06.94zm10 10l.94 2.06.94-2.06 2.06-.94-2.06-.94-.94-2.06-.94 2.06-2.06.94z\"/><path d=\"M17.41 7.96l-1.37-1.37c-.4-.4-.92-.59-1.43-.59-.52 0-1.04.2-1.43.59L10.3 9.45l-7.72 7.72c-.78.78-.78 2.05 0 2.83L4 21.41c.39.39.9.59 1.41.59.51 0 1.02-.2 1.41-.59l7.78-7.78 2.81-2.81c.8-.78.8-2.07 0-2.86zM5.41 20L4 18.59l7.72-7.72 1.47 1.35L5.41 20z\"/>\n",
              "  </svg>\n",
              "      </button>\n",
              "      \n",
              "  <style>\n",
              "    .colab-df-container {\n",
              "      display:flex;\n",
              "      flex-wrap:wrap;\n",
              "      gap: 12px;\n",
              "    }\n",
              "\n",
              "    .colab-df-convert {\n",
              "      background-color: #E8F0FE;\n",
              "      border: none;\n",
              "      border-radius: 50%;\n",
              "      cursor: pointer;\n",
              "      display: none;\n",
              "      fill: #1967D2;\n",
              "      height: 32px;\n",
              "      padding: 0 0 0 0;\n",
              "      width: 32px;\n",
              "    }\n",
              "\n",
              "    .colab-df-convert:hover {\n",
              "      background-color: #E2EBFA;\n",
              "      box-shadow: 0px 1px 2px rgba(60, 64, 67, 0.3), 0px 1px 3px 1px rgba(60, 64, 67, 0.15);\n",
              "      fill: #174EA6;\n",
              "    }\n",
              "\n",
              "    [theme=dark] .colab-df-convert {\n",
              "      background-color: #3B4455;\n",
              "      fill: #D2E3FC;\n",
              "    }\n",
              "\n",
              "    [theme=dark] .colab-df-convert:hover {\n",
              "      background-color: #434B5C;\n",
              "      box-shadow: 0px 1px 3px 1px rgba(0, 0, 0, 0.15);\n",
              "      filter: drop-shadow(0px 1px 2px rgba(0, 0, 0, 0.3));\n",
              "      fill: #FFFFFF;\n",
              "    }\n",
              "  </style>\n",
              "\n",
              "      <script>\n",
              "        const buttonEl =\n",
              "          document.querySelector('#df-1e1fcc0f-9885-4840-bb63-32cb336e551e button.colab-df-convert');\n",
              "        buttonEl.style.display =\n",
              "          google.colab.kernel.accessAllowed ? 'block' : 'none';\n",
              "\n",
              "        async function convertToInteractive(key) {\n",
              "          const element = document.querySelector('#df-1e1fcc0f-9885-4840-bb63-32cb336e551e');\n",
              "          const dataTable =\n",
              "            await google.colab.kernel.invokeFunction('convertToInteractive',\n",
              "                                                     [key], {});\n",
              "          if (!dataTable) return;\n",
              "\n",
              "          const docLinkHtml = 'Like what you see? Visit the ' +\n",
              "            '<a target=\"_blank\" href=https://colab.research.google.com/notebooks/data_table.ipynb>data table notebook</a>'\n",
              "            + ' to learn more about interactive tables.';\n",
              "          element.innerHTML = '';\n",
              "          dataTable['output_type'] = 'display_data';\n",
              "          await google.colab.output.renderOutput(dataTable, element);\n",
              "          const docLink = document.createElement('div');\n",
              "          docLink.innerHTML = docLinkHtml;\n",
              "          element.appendChild(docLink);\n",
              "        }\n",
              "      </script>\n",
              "    </div>\n",
              "  </div>\n",
              "  "
            ]
          },
          "metadata": {},
          "execution_count": 41
        }
      ]
    },
    {
      "cell_type": "markdown",
      "source": [
        "# Non-normal Distribution, comparing means of two unpaired samples\n",
        "\n",
        "a.k.a. non-parametric tests, meaning you don't assume that the data follows a particular model and therefore has certain parameters. In this case, not assuming that the sample follows the model of \"normal distribution\".\n",
        "\n",
        "First, let's create two non-normally distributed samples.\n",
        "\n"
      ],
      "metadata": {
        "id": "iiTcvVHo0SQX"
      }
    },
    {
      "cell_type": "markdown",
      "source": [
        "### Generate Non-normal Distributions"
      ],
      "metadata": {
        "id": "PWEk5lP_qm9V"
      }
    },
    {
      "cell_type": "code",
      "source": [
        "seed = 5\n",
        "rand_state = 5\n",
        "rand = np.random.RandomState(seed)\n",
        "\n",
        "x = np.hstack(\n",
        "    [rand.normal(loc=0.0, scale=0.3, size=20), \n",
        "     rand.normal(loc=1.0, scale=0.3, size=10),\n",
        "     ],\n",
        "    )\n",
        "y = np.hstack(\n",
        "    [rand.normal(loc=-0.3, scale=0.5, size=15), \n",
        "     rand.normal(loc=0.2, scale=0.5, size=5),\n",
        "     ],\n",
        "    )\n",
        "\n",
        "df_xy = pd.DataFrame([x,y], index=['Treatment', 'Control']).T\n",
        "\n",
        "sns.histplot(\n",
        "    data=df_xy,\n",
        "    kde=True)\n",
        "\n",
        "plt.vlines([np.mean(x), np.mean(y)] , 0, 5, colors=sns.color_palette(), label='means')\n",
        "plt.vlines([np.median(x), np.median(y)] , 0, 5, colors=sns.color_palette(), ls='--', label='medians')"
      ],
      "metadata": {
        "colab": {
          "base_uri": "https://localhost:8080/",
          "height": 622
        },
        "id": "tiF3Gy1T-qUq",
        "outputId": "3d6c3adf-be7c-4dad-aba0-354141ebc52f"
      },
      "execution_count": null,
      "outputs": [
        {
          "output_type": "execute_result",
          "data": {
            "text/plain": [
              "<matplotlib.collections.LineCollection at 0x7f783a22cad0>"
            ]
          },
          "metadata": {},
          "execution_count": 362
        },
        {
          "output_type": "display_data",
          "data": {
            "text/plain": [
              "<Figure size 1440x720 with 1 Axes>"
            ],
            "image/png": "[encoded data removed]"
          },
          "metadata": {}
        }
      ]
    },
    {
      "cell_type": "markdown",
      "source": [
        "## what are we testing for?\n",
        "\n",
        "Q: How likely is it that these two samples came from the same population?\n",
        "\n",
        "Useful if trying to detect a difference between a control and experiment group.\n",
        "\n",
        "e.g. If there is no difference then it *suggests* the treatment had no effect.\n",
        "\n",
        "## The Rank Test - Mann-Whitney U (a.k.a Wilcoxon Rank Sum) Test\n",
        "\n",
        "*Test if the probability of X being greater than Y is equal to the probability of Y being greater than X*\n",
        "\n",
        "> A very general formulation is to assume that:\n",
        "> * All the observations from both groups are independent of each other,\n",
        "> * The responses are at least ordinal (i.e., one can at least say, of any two observations, which is the greater),\n",
        "> * Under the null hypothesis H0, the distributions of both populations are identical.\n",
        "> * The alternative hypothesis H1 is that the distributions are not identical.\n",
        "\n",
        "Assumptions:\n",
        "\n",
        "1. Your dependent variable should be measured at the ordinal or continuous level\n",
        "2. Your independent variable should consist of two categorical, independent groups\n",
        "3. You should have independence of observations\n",
        "4. two variables are not normally distributed, but have similar *shape*\n",
        "\n",
        "for manual method of calculation see https://en.wikipedia.org/wiki/Mann%E2%80%93Whitney_U_test\n",
        "\n",
        "Note that recent papers have suggested to use the Brunner-Munzel Test instead becaues it makes fewer assumptions about the data.\n"
      ],
      "metadata": {
        "id": "36jZ7GmAGfHT"
      }
    },
    {
      "cell_type": "markdown",
      "source": [
        "### This is how the (invalid) t-test performs"
      ],
      "metadata": {
        "id": "9XBfVLyBTRVu"
      }
    },
    {
      "cell_type": "code",
      "source": [
        "eq_var = ws.ttest_ind(x,y, usevar='pooled')\n",
        "diff_var = ws.ttest_ind(x,y, usevar='unequal')\n",
        "one_tailed_less = ws.ttest_ind(x,y, usevar='unequal', alternative='smaller')\n",
        "one_tailed_greater = ws.ttest_ind(x,y, usevar='unequal', alternative='larger')\n",
        "\n",
        "pd.DataFrame([eq_var, diff_var, one_tailed_less, one_tailed_greater], \n",
        "             index=['eq_var_Students', 'diff_var_Welchs', 'one_tailed_less', 'one_tailed_greater'],\n",
        "             columns=['tstat', 'pvalue', 'df'],\n",
        "             )\n"
      ],
      "metadata": {
        "colab": {
          "base_uri": "https://localhost:8080/",
          "height": 175
        },
        "id": "FH1uwrys13bS",
        "outputId": "46b7cb87-a86a-4cf5-cd56-09901280fdcd"
      },
      "execution_count": null,
      "outputs": [
        {
          "output_type": "execute_result",
          "data": {
            "text/plain": [
              "                       tstat    pvalue         df\n",
              "eq_var_Students     2.523769  0.014974  48.000000\n",
              "diff_var_Welchs     2.643495  0.011153  46.427815\n",
              "one_tailed_less     2.643495  0.994423  46.427815\n",
              "one_tailed_greater  2.643495  0.005577  46.427815"
            ],
            "text/html": [
              "\n",
              "  <div id=\"df-5960a534-7e29-4f35-8963-b9eb6d3f798d\">\n",
              "    <div class=\"colab-df-container\">\n",
              "      <div>\n",
              "<style scoped>\n",
              "    .dataframe tbody tr th:only-of-type {\n",
              "        vertical-align: middle;\n",
              "    }\n",
              "\n",
              "    .dataframe tbody tr th {\n",
              "        vertical-align: top;\n",
              "    }\n",
              "\n",
              "    .dataframe thead th {\n",
              "        text-align: right;\n",
              "    }\n",
              "</style>\n",
              "<table border=\"1\" class=\"dataframe\">\n",
              "  <thead>\n",
              "    <tr style=\"text-align: right;\">\n",
              "      <th></th>\n",
              "      <th>tstat</th>\n",
              "      <th>pvalue</th>\n",
              "      <th>df</th>\n",
              "    </tr>\n",
              "  </thead>\n",
              "  <tbody>\n",
              "    <tr>\n",
              "      <th>eq_var_Students</th>\n",
              "      <td>2.523769</td>\n",
              "      <td>0.014974</td>\n",
              "      <td>48.000000</td>\n",
              "    </tr>\n",
              "    <tr>\n",
              "      <th>diff_var_Welchs</th>\n",
              "      <td>2.643495</td>\n",
              "      <td>0.011153</td>\n",
              "      <td>46.427815</td>\n",
              "    </tr>\n",
              "    <tr>\n",
              "      <th>one_tailed_less</th>\n",
              "      <td>2.643495</td>\n",
              "      <td>0.994423</td>\n",
              "      <td>46.427815</td>\n",
              "    </tr>\n",
              "    <tr>\n",
              "      <th>one_tailed_greater</th>\n",
              "      <td>2.643495</td>\n",
              "      <td>0.005577</td>\n",
              "      <td>46.427815</td>\n",
              "    </tr>\n",
              "  </tbody>\n",
              "</table>\n",
              "</div>\n",
              "      <button class=\"colab-df-convert\" onclick=\"convertToInteractive('df-5960a534-7e29-4f35-8963-b9eb6d3f798d')\"\n",
              "              title=\"Convert this dataframe to an interactive table.\"\n",
              "              style=\"display:none;\">\n",
              "        \n",
              "  <svg xmlns=\"http://www.w3.org/2000/svg\" height=\"24px\"viewBox=\"0 0 24 24\"\n",
              "       width=\"24px\">\n",
              "    <path d=\"M0 0h24v24H0V0z\" fill=\"none\"/>\n",
              "    <path d=\"M18.56 5.44l.94 2.06.94-2.06 2.06-.94-2.06-.94-.94-2.06-.94 2.06-2.06.94zm-11 1L8.5 8.5l.94-2.06 2.06-.94-2.06-.94L8.5 2.5l-.94 2.06-2.06.94zm10 10l.94 2.06.94-2.06 2.06-.94-2.06-.94-.94-2.06-.94 2.06-2.06.94z\"/><path d=\"M17.41 7.96l-1.37-1.37c-.4-.4-.92-.59-1.43-.59-.52 0-1.04.2-1.43.59L10.3 9.45l-7.72 7.72c-.78.78-.78 2.05 0 2.83L4 21.41c.39.39.9.59 1.41.59.51 0 1.02-.2 1.41-.59l7.78-7.78 2.81-2.81c.8-.78.8-2.07 0-2.86zM5.41 20L4 18.59l7.72-7.72 1.47 1.35L5.41 20z\"/>\n",
              "  </svg>\n",
              "      </button>\n",
              "      \n",
              "  <style>\n",
              "    .colab-df-container {\n",
              "      display:flex;\n",
              "      flex-wrap:wrap;\n",
              "      gap: 12px;\n",
              "    }\n",
              "\n",
              "    .colab-df-convert {\n",
              "      background-color: #E8F0FE;\n",
              "      border: none;\n",
              "      border-radius: 50%;\n",
              "      cursor: pointer;\n",
              "      display: none;\n",
              "      fill: #1967D2;\n",
              "      height: 32px;\n",
              "      padding: 0 0 0 0;\n",
              "      width: 32px;\n",
              "    }\n",
              "\n",
              "    .colab-df-convert:hover {\n",
              "      background-color: #E2EBFA;\n",
              "      box-shadow: 0px 1px 2px rgba(60, 64, 67, 0.3), 0px 1px 3px 1px rgba(60, 64, 67, 0.15);\n",
              "      fill: #174EA6;\n",
              "    }\n",
              "\n",
              "    [theme=dark] .colab-df-convert {\n",
              "      background-color: #3B4455;\n",
              "      fill: #D2E3FC;\n",
              "    }\n",
              "\n",
              "    [theme=dark] .colab-df-convert:hover {\n",
              "      background-color: #434B5C;\n",
              "      box-shadow: 0px 1px 3px 1px rgba(0, 0, 0, 0.15);\n",
              "      filter: drop-shadow(0px 1px 2px rgba(0, 0, 0, 0.3));\n",
              "      fill: #FFFFFF;\n",
              "    }\n",
              "  </style>\n",
              "\n",
              "      <script>\n",
              "        const buttonEl =\n",
              "          document.querySelector('#df-5960a534-7e29-4f35-8963-b9eb6d3f798d button.colab-df-convert');\n",
              "        buttonEl.style.display =\n",
              "          google.colab.kernel.accessAllowed ? 'block' : 'none';\n",
              "\n",
              "        async function convertToInteractive(key) {\n",
              "          const element = document.querySelector('#df-5960a534-7e29-4f35-8963-b9eb6d3f798d');\n",
              "          const dataTable =\n",
              "            await google.colab.kernel.invokeFunction('convertToInteractive',\n",
              "                                                     [key], {});\n",
              "          if (!dataTable) return;\n",
              "\n",
              "          const docLinkHtml = 'Like what you see? Visit the ' +\n",
              "            '<a target=\"_blank\" href=https://colab.research.google.com/notebooks/data_table.ipynb>data table notebook</a>'\n",
              "            + ' to learn more about interactive tables.';\n",
              "          element.innerHTML = '';\n",
              "          dataTable['output_type'] = 'display_data';\n",
              "          await google.colab.output.renderOutput(dataTable, element);\n",
              "          const docLink = document.createElement('div');\n",
              "          docLink.innerHTML = docLinkHtml;\n",
              "          element.appendChild(docLink);\n",
              "        }\n",
              "      </script>\n",
              "    </div>\n",
              "  </div>\n",
              "  "
            ]
          },
          "metadata": {},
          "execution_count": 23
        }
      ]
    },
    {
      "cell_type": "markdown",
      "source": [
        "## run the Mann-Whitney U test and Brunner-Menzel Test\n",
        "\n",
        "MWU assumes **equal variance or equal distribution under null hypothesis**\n",
        "\n",
        "BM allows for **unequal variance**"
      ],
      "metadata": {
        "id": "O83q47zpPhHX"
      }
    },
    {
      "cell_type": "code",
      "source": [
        "print(sps.mannwhitneyu(x,y, alternative='two-sided'))\n",
        "print(sps.brunnermunzel (x,y, alternative='two-sided'))"
      ],
      "metadata": {
        "colab": {
          "base_uri": "https://localhost:8080/"
        },
        "id": "px6kygWNNpEs",
        "outputId": "437da64c-d815-496a-8875-bbc7badbda97"
      },
      "execution_count": null,
      "outputs": [
        {
          "output_type": "stream",
          "name": "stdout",
          "text": [
            "MannwhitneyuResult(statistic=423.0, pvalue=0.015272098147536953)\n",
            "BrunnerMunzelResult(statistic=-2.723268195787125, pvalue=0.009261151803068093)\n"
          ]
        }
      ]
    },
    {
      "cell_type": "markdown",
      "source": [
        "## One way to state results\n",
        "\n",
        "Using a threshold of significance of alpha=0.05, the two samples were unlikely to be drawn from the same population (Two-sided Mann-Whitney U test statistic=423.0, P-value=0.015). This suggests that we should reject the null hypothesis and conclude that the treatment had an effect. (do we know what effect?)\n",
        "\n"
      ],
      "metadata": {
        "id": "GPeDKtfKNrxb"
      }
    },
    {
      "cell_type": "markdown",
      "source": [
        "## note that the `statsmodels` package runs Brunner-Menzel by default\n",
        "\n",
        "you may compare the z and P>|z| to see that they are identical to `scipy.stats.brunnermunzel`"
      ],
      "metadata": {
        "id": "jQhJFSUoP_fQ"
      }
    },
    {
      "cell_type": "code",
      "source": [
        "from statsmodels.stats.nonparametric import rank_compare_2indep\n",
        "\n",
        "print(rank_compare_2indep(x, y, use_t=False).summary())\n",
        "\n",
        "# assuming normal distribution (which is not true in this case)\n",
        "print(rank_compare_2indep(x, y, use_t=True).summary())"
      ],
      "metadata": {
        "colab": {
          "base_uri": "https://localhost:8080/"
        },
        "id": "a_dqoLy42jMK",
        "outputId": "bab45873-db44-4693-849b-7d52a95dfa1d"
      },
      "execution_count": null,
      "outputs": [
        {
          "output_type": "stream",
          "name": "stdout",
          "text": [
            "                  Probability sample 1 is stochastically larger                   \n",
            "==================================================================================\n",
            "                     coef    std err          z      P>|z|      [0.025      0.975]\n",
            "----------------------------------------------------------------------------------\n",
            "prob(x1>x2) c0     0.7050      0.075      2.723      0.006       0.507       0.803\n",
            "==================================================================================\n",
            "                  Probability sample 1 is stochastically larger                   \n",
            "==================================================================================\n",
            "                     coef    std err          t      P>|t|      [0.025      0.975]\n",
            "----------------------------------------------------------------------------------\n",
            "prob(x1>x2) c0     0.7050      0.075      2.723      0.009       0.503       0.807\n",
            "==================================================================================\n"
          ]
        }
      ]
    },
    {
      "cell_type": "markdown",
      "source": [
        "# Working with Paired Samples"
      ],
      "metadata": {
        "id": "FUPWwndOSQio"
      }
    },
    {
      "cell_type": "markdown",
      "source": [
        "## Data Generation\n",
        "\n",
        "Just making two sets of non-normal samples with different means and variances and calling them paired.\n",
        "\n",
        "Note that sample sizes must be identical (the definition of paired)"
      ],
      "metadata": {
        "id": "BBy_U36Pta8M"
      }
    },
    {
      "cell_type": "code",
      "source": [
        "seed = 5\n",
        "rand_state = 5\n",
        "rand = np.random.RandomState(seed)\n",
        "\n",
        "s = 10\n",
        "\n",
        "x = np.hstack(\n",
        "    [rand.normal(loc=10.0, scale=0.3, size=s*2), \n",
        "     rand.normal(loc=11.0, scale=0.3, size=s),\n",
        "     ],\n",
        "    )\n",
        "y = np.hstack(\n",
        "    [rand.normal(loc=9.7, scale=0.5, size=s*2), \n",
        "     rand.normal(loc=10.2, scale=0.5, size=s),\n",
        "     ],\n",
        "    )\n",
        "\n",
        "df_xy = pd.DataFrame([x,y], index=['Treatment', 'Baseline']).T\n",
        "df_xy.index.name = 'Timepoint Pairs'\n",
        "\n",
        "sns.histplot(\n",
        "    data=df_xy,\n",
        "    kde=True,\n",
        "    bins=20)\n",
        "\n",
        "plt.vlines([np.mean(x), np.mean(y)] , 0, 5, colors=sns.color_palette(), label='means')\n",
        "plt.vlines([np.median(x), np.median(y)] , 0, 5, colors=sns.color_palette(), ls='--', label='medians')"
      ],
      "metadata": {
        "colab": {
          "base_uri": "https://localhost:8080/",
          "height": 460
        },
        "id": "Q_aDdPB4SnBG",
        "outputId": "6a8a59bb-cb0f-44cc-e8fc-47003b07edc5"
      },
      "execution_count": null,
      "outputs": [
        {
          "output_type": "execute_result",
          "data": {
            "text/plain": [
              "<matplotlib.collections.LineCollection at 0x7f60e7f3ea90>"
            ]
          },
          "metadata": {},
          "execution_count": 2
        },
        {
          "output_type": "display_data",
          "data": {
            "text/plain": [
              "<Figure size 1440x720 with 1 Axes>"
            ],
            "image/png": "[encoded data removed]"
          },
          "metadata": {}
        }
      ]
    },
    {
      "cell_type": "markdown",
      "source": [
        "What do the comparisons look like?"
      ],
      "metadata": {
        "id": "t0pY4iTQZmKM"
      }
    },
    {
      "cell_type": "code",
      "source": [
        "df_xy['T>B?'] = df_xy.Treatment > df_xy.Baseline\n",
        "\n",
        "df_xy"
      ],
      "metadata": {
        "colab": {
          "base_uri": "https://localhost:8080/",
          "height": 1000
        },
        "id": "bDXmz46SS6O0",
        "outputId": "43cb2871-16d9-476c-8bb5-c2ce5d0fc4a0"
      },
      "execution_count": null,
      "outputs": [
        {
          "output_type": "execute_result",
          "data": {
            "text/plain": [
              "                 Treatment   Baseline   T>B?\n",
              "Timepoint Pairs                             \n",
              "0                10.132368  10.096527   True\n",
              "1                 9.900739   9.384214   True\n",
              "2                10.729231   9.696903   True\n",
              "3                 9.924372   9.649466   True\n",
              "4                10.032883   9.673846   True\n",
              "5                10.474744   9.824609   True\n",
              "6                 9.727230   9.798830  False\n",
              "7                 9.822509  10.367424  False\n",
              "8                10.056281   9.656562   True\n",
              "9                 9.901039  10.480766  False\n",
              "10                9.642171   9.547073   True\n",
              "11                9.938537   9.461134   True\n",
              "12                9.892351   9.750369   True\n",
              "13               10.181041   9.877719   True\n",
              "14                9.500563   9.834806  False\n",
              "15                9.789946  10.345982  False\n",
              "16               10.345417  10.269671   True\n",
              "17               10.557199   9.947220   True\n",
              "18                9.546646   9.531832   True\n",
              "19               10.193454   9.649693   True\n",
              "20               10.705818  10.906699  False\n",
              "21               10.742944  10.310627   True\n",
              "22               10.738436   9.544613   True\n",
              "23               10.873248   9.855217   True\n",
              "24               11.298932   9.911243   True\n",
              "25               11.213726  10.776102   True\n",
              "26               11.017743  10.146418   True\n",
              "27               10.891007  11.330053  False\n",
              "28               11.000987  10.528310   True\n",
              "29               10.968221  10.262403   True"
            ],
            "text/html": [
              "\n",
              "  <div id=\"df-f0218c88-9961-4440-8363-1efe6192b7f0\">\n",
              "    <div class=\"colab-df-container\">\n",
              "      <div>\n",
              "<style scoped>\n",
              "    .dataframe tbody tr th:only-of-type {\n",
              "        vertical-align: middle;\n",
              "    }\n",
              "\n",
              "    .dataframe tbody tr th {\n",
              "        vertical-align: top;\n",
              "    }\n",
              "\n",
              "    .dataframe thead th {\n",
              "        text-align: right;\n",
              "    }\n",
              "</style>\n",
              "<table border=\"1\" class=\"dataframe\">\n",
              "  <thead>\n",
              "    <tr style=\"text-align: right;\">\n",
              "      <th></th>\n",
              "      <th>Treatment</th>\n",
              "      <th>Baseline</th>\n",
              "      <th>T&gt;B?</th>\n",
              "    </tr>\n",
              "    <tr>\n",
              "      <th>Timepoint Pairs</th>\n",
              "      <th></th>\n",
              "      <th></th>\n",
              "      <th></th>\n",
              "    </tr>\n",
              "  </thead>\n",
              "  <tbody>\n",
              "    <tr>\n",
              "      <th>0</th>\n",
              "      <td>10.132368</td>\n",
              "      <td>10.096527</td>\n",
              "      <td>True</td>\n",
              "    </tr>\n",
              "    <tr>\n",
              "      <th>1</th>\n",
              "      <td>9.900739</td>\n",
              "      <td>9.384214</td>\n",
              "      <td>True</td>\n",
              "    </tr>\n",
              "    <tr>\n",
              "      <th>2</th>\n",
              "      <td>10.729231</td>\n",
              "      <td>9.696903</td>\n",
              "      <td>True</td>\n",
              "    </tr>\n",
              "    <tr>\n",
              "      <th>3</th>\n",
              "      <td>9.924372</td>\n",
              "      <td>9.649466</td>\n",
              "      <td>True</td>\n",
              "    </tr>\n",
              "    <tr>\n",
              "      <th>4</th>\n",
              "      <td>10.032883</td>\n",
              "      <td>9.673846</td>\n",
              "      <td>True</td>\n",
              "    </tr>\n",
              "    <tr>\n",
              "      <th>5</th>\n",
              "      <td>10.474744</td>\n",
              "      <td>9.824609</td>\n",
              "      <td>True</td>\n",
              "    </tr>\n",
              "    <tr>\n",
              "      <th>6</th>\n",
              "      <td>9.727230</td>\n",
              "      <td>9.798830</td>\n",
              "      <td>False</td>\n",
              "    </tr>\n",
              "    <tr>\n",
              "      <th>7</th>\n",
              "      <td>9.822509</td>\n",
              "      <td>10.367424</td>\n",
              "      <td>False</td>\n",
              "    </tr>\n",
              "    <tr>\n",
              "      <th>8</th>\n",
              "      <td>10.056281</td>\n",
              "      <td>9.656562</td>\n",
              "      <td>True</td>\n",
              "    </tr>\n",
              "    <tr>\n",
              "      <th>9</th>\n",
              "      <td>9.901039</td>\n",
              "      <td>10.480766</td>\n",
              "      <td>False</td>\n",
              "    </tr>\n",
              "    <tr>\n",
              "      <th>10</th>\n",
              "      <td>9.642171</td>\n",
              "      <td>9.547073</td>\n",
              "      <td>True</td>\n",
              "    </tr>\n",
              "    <tr>\n",
              "      <th>11</th>\n",
              "      <td>9.938537</td>\n",
              "      <td>9.461134</td>\n",
              "      <td>True</td>\n",
              "    </tr>\n",
              "    <tr>\n",
              "      <th>12</th>\n",
              "      <td>9.892351</td>\n",
              "      <td>9.750369</td>\n",
              "      <td>True</td>\n",
              "    </tr>\n",
              "    <tr>\n",
              "      <th>13</th>\n",
              "      <td>10.181041</td>\n",
              "      <td>9.877719</td>\n",
              "      <td>True</td>\n",
              "    </tr>\n",
              "    <tr>\n",
              "      <th>14</th>\n",
              "      <td>9.500563</td>\n",
              "      <td>9.834806</td>\n",
              "      <td>False</td>\n",
              "    </tr>\n",
              "    <tr>\n",
              "      <th>15</th>\n",
              "      <td>9.789946</td>\n",
              "      <td>10.345982</td>\n",
              "      <td>False</td>\n",
              "    </tr>\n",
              "    <tr>\n",
              "      <th>16</th>\n",
              "      <td>10.345417</td>\n",
              "      <td>10.269671</td>\n",
              "      <td>True</td>\n",
              "    </tr>\n",
              "    <tr>\n",
              "      <th>17</th>\n",
              "      <td>10.557199</td>\n",
              "      <td>9.947220</td>\n",
              "      <td>True</td>\n",
              "    </tr>\n",
              "    <tr>\n",
              "      <th>18</th>\n",
              "      <td>9.546646</td>\n",
              "      <td>9.531832</td>\n",
              "      <td>True</td>\n",
              "    </tr>\n",
              "    <tr>\n",
              "      <th>19</th>\n",
              "      <td>10.193454</td>\n",
              "      <td>9.649693</td>\n",
              "      <td>True</td>\n",
              "    </tr>\n",
              "    <tr>\n",
              "      <th>20</th>\n",
              "      <td>10.705818</td>\n",
              "      <td>10.906699</td>\n",
              "      <td>False</td>\n",
              "    </tr>\n",
              "    <tr>\n",
              "      <th>21</th>\n",
              "      <td>10.742944</td>\n",
              "      <td>10.310627</td>\n",
              "      <td>True</td>\n",
              "    </tr>\n",
              "    <tr>\n",
              "      <th>22</th>\n",
              "      <td>10.738436</td>\n",
              "      <td>9.544613</td>\n",
              "      <td>True</td>\n",
              "    </tr>\n",
              "    <tr>\n",
              "      <th>23</th>\n",
              "      <td>10.873248</td>\n",
              "      <td>9.855217</td>\n",
              "      <td>True</td>\n",
              "    </tr>\n",
              "    <tr>\n",
              "      <th>24</th>\n",
              "      <td>11.298932</td>\n",
              "      <td>9.911243</td>\n",
              "      <td>True</td>\n",
              "    </tr>\n",
              "    <tr>\n",
              "      <th>25</th>\n",
              "      <td>11.213726</td>\n",
              "      <td>10.776102</td>\n",
              "      <td>True</td>\n",
              "    </tr>\n",
              "    <tr>\n",
              "      <th>26</th>\n",
              "      <td>11.017743</td>\n",
              "      <td>10.146418</td>\n",
              "      <td>True</td>\n",
              "    </tr>\n",
              "    <tr>\n",
              "      <th>27</th>\n",
              "      <td>10.891007</td>\n",
              "      <td>11.330053</td>\n",
              "      <td>False</td>\n",
              "    </tr>\n",
              "    <tr>\n",
              "      <th>28</th>\n",
              "      <td>11.000987</td>\n",
              "      <td>10.528310</td>\n",
              "      <td>True</td>\n",
              "    </tr>\n",
              "    <tr>\n",
              "      <th>29</th>\n",
              "      <td>10.968221</td>\n",
              "      <td>10.262403</td>\n",
              "      <td>True</td>\n",
              "    </tr>\n",
              "  </tbody>\n",
              "</table>\n",
              "</div>\n",
              "      <button class=\"colab-df-convert\" onclick=\"convertToInteractive('df-f0218c88-9961-4440-8363-1efe6192b7f0')\"\n",
              "              title=\"Convert this dataframe to an interactive table.\"\n",
              "              style=\"display:none;\">\n",
              "        \n",
              "  <svg xmlns=\"http://www.w3.org/2000/svg\" height=\"24px\"viewBox=\"0 0 24 24\"\n",
              "       width=\"24px\">\n",
              "    <path d=\"M0 0h24v24H0V0z\" fill=\"none\"/>\n",
              "    <path d=\"M18.56 5.44l.94 2.06.94-2.06 2.06-.94-2.06-.94-.94-2.06-.94 2.06-2.06.94zm-11 1L8.5 8.5l.94-2.06 2.06-.94-2.06-.94L8.5 2.5l-.94 2.06-2.06.94zm10 10l.94 2.06.94-2.06 2.06-.94-2.06-.94-.94-2.06-.94 2.06-2.06.94z\"/><path d=\"M17.41 7.96l-1.37-1.37c-.4-.4-.92-.59-1.43-.59-.52 0-1.04.2-1.43.59L10.3 9.45l-7.72 7.72c-.78.78-.78 2.05 0 2.83L4 21.41c.39.39.9.59 1.41.59.51 0 1.02-.2 1.41-.59l7.78-7.78 2.81-2.81c.8-.78.8-2.07 0-2.86zM5.41 20L4 18.59l7.72-7.72 1.47 1.35L5.41 20z\"/>\n",
              "  </svg>\n",
              "      </button>\n",
              "      \n",
              "  <style>\n",
              "    .colab-df-container {\n",
              "      display:flex;\n",
              "      flex-wrap:wrap;\n",
              "      gap: 12px;\n",
              "    }\n",
              "\n",
              "    .colab-df-convert {\n",
              "      background-color: #E8F0FE;\n",
              "      border: none;\n",
              "      border-radius: 50%;\n",
              "      cursor: pointer;\n",
              "      display: none;\n",
              "      fill: #1967D2;\n",
              "      height: 32px;\n",
              "      padding: 0 0 0 0;\n",
              "      width: 32px;\n",
              "    }\n",
              "\n",
              "    .colab-df-convert:hover {\n",
              "      background-color: #E2EBFA;\n",
              "      box-shadow: 0px 1px 2px rgba(60, 64, 67, 0.3), 0px 1px 3px 1px rgba(60, 64, 67, 0.15);\n",
              "      fill: #174EA6;\n",
              "    }\n",
              "\n",
              "    [theme=dark] .colab-df-convert {\n",
              "      background-color: #3B4455;\n",
              "      fill: #D2E3FC;\n",
              "    }\n",
              "\n",
              "    [theme=dark] .colab-df-convert:hover {\n",
              "      background-color: #434B5C;\n",
              "      box-shadow: 0px 1px 3px 1px rgba(0, 0, 0, 0.15);\n",
              "      filter: drop-shadow(0px 1px 2px rgba(0, 0, 0, 0.3));\n",
              "      fill: #FFFFFF;\n",
              "    }\n",
              "  </style>\n",
              "\n",
              "      <script>\n",
              "        const buttonEl =\n",
              "          document.querySelector('#df-f0218c88-9961-4440-8363-1efe6192b7f0 button.colab-df-convert');\n",
              "        buttonEl.style.display =\n",
              "          google.colab.kernel.accessAllowed ? 'block' : 'none';\n",
              "\n",
              "        async function convertToInteractive(key) {\n",
              "          const element = document.querySelector('#df-f0218c88-9961-4440-8363-1efe6192b7f0');\n",
              "          const dataTable =\n",
              "            await google.colab.kernel.invokeFunction('convertToInteractive',\n",
              "                                                     [key], {});\n",
              "          if (!dataTable) return;\n",
              "\n",
              "          const docLinkHtml = 'Like what you see? Visit the ' +\n",
              "            '<a target=\"_blank\" href=https://colab.research.google.com/notebooks/data_table.ipynb>data table notebook</a>'\n",
              "            + ' to learn more about interactive tables.';\n",
              "          element.innerHTML = '';\n",
              "          dataTable['output_type'] = 'display_data';\n",
              "          await google.colab.output.renderOutput(dataTable, element);\n",
              "          const docLink = document.createElement('div');\n",
              "          docLink.innerHTML = docLinkHtml;\n",
              "          element.appendChild(docLink);\n",
              "        }\n",
              "      </script>\n",
              "    </div>\n",
              "  </div>\n",
              "  "
            ]
          },
          "metadata": {},
          "execution_count": 3
        }
      ]
    },
    {
      "cell_type": "markdown",
      "source": [
        "Let's visualise these True and False in a more conducive way:"
      ],
      "metadata": {
        "id": "kHuqYAqqULe3"
      }
    },
    {
      "cell_type": "code",
      "source": [
        "p = plt.subplots(figsize=(20,2))\n",
        "ax = sns.heatmap(df_xy.loc[:, ['T>B?']].T, annot=True, linewidths=1.0, cmap='viridis')\n",
        "ax.set_title('Was Test more than Baseline?')"
      ],
      "metadata": {
        "colab": {
          "base_uri": "https://localhost:8080/",
          "height": 203
        },
        "id": "jLVezRaCu6io",
        "outputId": "f68482f0-8649-4b15-8e3d-bf87752bacd2"
      },
      "execution_count": null,
      "outputs": [
        {
          "output_type": "execute_result",
          "data": {
            "text/plain": [
              "Text(0.5, 1.0, 'Was Test more than Baseline?')"
            ]
          },
          "metadata": {},
          "execution_count": 13
        },
        {
          "output_type": "display_data",
          "data": {
            "text/plain": [
              "<Figure size 1440x144 with 2 Axes>"
            ],
            "image/png": "[encoded data removed]"
          },
          "metadata": {}
        }
      ]
    },
    {
      "cell_type": "markdown",
      "source": [
        "We see that some subjects worsened while most improved."
      ],
      "metadata": {
        "id": "j0Ya1jZ-TXkl"
      }
    },
    {
      "cell_type": "markdown",
      "source": [
        "## The Paired T-test\n",
        "\n",
        "Assumes:\n",
        "\n",
        "* population means are normally distributed\n",
        "* Same variance\n",
        "* The data used to carry out the test should be fully paired. i.e. don't mix paired and unpaired observations."
      ],
      "metadata": {
        "id": "5boTxh_bUSla"
      }
    },
    {
      "cell_type": "code",
      "source": [
        "from scipy.stats import ttest_rel\n",
        "\n",
        "ttest_rel(x,y, alternative='greater')"
      ],
      "metadata": {
        "colab": {
          "base_uri": "https://localhost:8080/"
        },
        "id": "q6Vs5z1BUT1Q",
        "outputId": "0c52d1dd-4402-4dd4-fab5-19d3f4ef319f"
      },
      "execution_count": null,
      "outputs": [
        {
          "output_type": "execute_result",
          "data": {
            "text/plain": [
              "Ttest_relResult(statistic=3.2854574080354406, pvalue=0.0013325110360115366)"
            ]
          },
          "metadata": {},
          "execution_count": 44
        }
      ]
    },
    {
      "cell_type": "markdown",
      "source": [
        "## Wilcoxon signed-rank test\n",
        "\n",
        "The non-parametric version of the paired t-test.\n",
        "\n",
        "The Wilcoxon signed-rank test tests the null hypothesis that two related paired samples come from the same distribution. In particular, it tests whether the distribution of the differences x - y is symmetric about zero. It is a non-parametric version of the paired T-test.\n",
        "\n"
      ],
      "metadata": {
        "id": "i3FiHCMJUPgO"
      }
    },
    {
      "cell_type": "code",
      "source": [
        "from scipy.stats import wilcoxon\n",
        "\n",
        "print(wilcoxon(x,y, alternative='two-sided'))"
      ],
      "metadata": {
        "colab": {
          "base_uri": "https://localhost:8080/"
        },
        "id": "vKCls2PVR8J9",
        "outputId": "519f8c64-3dde-4ea9-a684-3a8b6ad654e5"
      },
      "execution_count": null,
      "outputs": [
        {
          "output_type": "stream",
          "name": "stdout",
          "text": [
            "WilcoxonResult(statistic=98.0, pvalue=0.0056671726914977955)\n"
          ]
        }
      ]
    },
    {
      "cell_type": "markdown",
      "source": [
        "## stating the results\n",
        "\n",
        "The data suggested that Treatment improved the subjects' scores compared to their baseline (Paired T-test statistic=3.29, P-value=0.0013)\n",
        "\n",
        "or \n",
        "\n",
        "(Wilcoxon signed-rank test statistic=367.0, P-value=0.0028)"
      ],
      "metadata": {
        "id": "tspLHbc1TgFI"
      }
    },
    {
      "cell_type": "markdown",
      "source": [
        "# ANOVA"
      ],
      "metadata": {
        "id": "4K3cmdDccqC9"
      }
    },
    {
      "cell_type": "code",
      "source": [
        "ca = [int(x) for x in '''7 9 5 8 6 8 6 10 7 4'''.split()]\n",
        "cb = [int(x) for x in '''4 3 6 2 7 5 5 4 1 3'''.split()]\n",
        "cc = [int(x) for x in '''6 1 3 5 3 4 6 5 7 3'''.split()]\n",
        "\n",
        "ca"
      ],
      "metadata": {
        "colab": {
          "base_uri": "https://localhost:8080/"
        },
        "id": "8opppn8WSdAX",
        "outputId": "2cbab7ae-7148-4387-f365-ecb60053b417"
      },
      "execution_count": null,
      "outputs": [
        {
          "output_type": "execute_result",
          "data": {
            "text/plain": [
              "[7, 9, 5, 8, 6, 8, 6, 10, 7, 4]"
            ]
          },
          "metadata": {},
          "execution_count": 47
        }
      ]
    },
    {
      "cell_type": "code",
      "source": [
        "from scipy.stats import f_oneway\n",
        "\n",
        "f_oneway(ca, cb, cc)"
      ],
      "metadata": {
        "colab": {
          "base_uri": "https://localhost:8080/"
        },
        "id": "_eFrb_78d64Q",
        "outputId": "06f081bd-99cb-47ea-ff6e-c1e7d3315ba7"
      },
      "execution_count": null,
      "outputs": [
        {
          "output_type": "execute_result",
          "data": {
            "text/plain": [
              "F_onewayResult(statistic=8.180910099889008, pvalue=0.0016690121879002645)"
            ]
          },
          "metadata": {},
          "execution_count": 48
        }
      ]
    },
    {
      "cell_type": "markdown",
      "source": [
        "# Tests for Correlation (covered in subsequent lecture)"
      ],
      "metadata": {
        "id": "pru-Auzwfmwj"
      }
    },
    {
      "cell_type": "markdown",
      "source": [
        "## Generate Various Data"
      ],
      "metadata": {
        "id": "HBCpLd6afp-U"
      }
    },
    {
      "cell_type": "code",
      "source": [
        "seed = 22\n",
        "rand_state = 22\n",
        "rand = np.random.RandomState(seed)\n",
        "\n",
        "scale = 1\n",
        "num=50\n",
        "\n",
        "x_funcs = [\n",
        "    ('linear',          (lambda x: np.random.normal(2*x, scale))),\n",
        "    ('linear_neg',      (lambda x: np.random.normal(-2*x, scale))),\n",
        "    ('squared',         (lambda x: np.random.normal(x**2, scale))),\n",
        "    ('squared_neg',     (lambda x: np.random.normal(-(x**2), scale))),\n",
        "    ('cubed',           (lambda x: np.random.normal((x**3)/10, scale))),\n",
        "    ('sqrt',            (lambda x: np.random.normal(x**0.5, scale))),\n",
        "    ('log',             (lambda x: np.random.normal(np.log(x+0.2)*5+3, scale))),\n",
        "    ('sin',             (lambda x: np.random.normal(5*np.sin(x*3.142), scale))),\n",
        "]\n",
        "\n",
        "x_in = np.linspace(0, 2, num=num)\n",
        "\n",
        "x_generated = [res[1](x_in) for res in x_funcs]\n",
        "\n",
        "df_examples = pd.DataFrame(x_generated, columns=x_in, index=[t[0] for t in x_funcs]).T\n",
        "df_examples.index.name = 'x'\n",
        "df_examples.reset_index(inplace=True)\n",
        "df_examples_molten = pd.melt(df_examples, id_vars='x')\n",
        "\n"
      ],
      "metadata": {
        "id": "KqN7xqsUfqlr"
      },
      "execution_count": null,
      "outputs": []
    },
    {
      "cell_type": "markdown",
      "source": [
        "## Calculate correlations"
      ],
      "metadata": {
        "id": "LO7URus1-tY3"
      }
    },
    {
      "cell_type": "code",
      "source": [
        "corrs = [\n",
        "    ((np.round(sps.pearsonr(x_in, y)[0], 4), np.format_float_scientific(sps.pearsonr(x_in, y)[1], precision=1)), \n",
        "    (np.round(sps.spearmanr(x_in, y).correlation, 4), np.format_float_scientific(sps.spearmanr(x_in, y).pvalue, precision=1))) for y in x_generated]\n",
        "corrs"
      ],
      "metadata": {
        "colab": {
          "base_uri": "https://localhost:8080/"
        },
        "id": "HWGr709ejcnc",
        "outputId": "d4ed46dd-2c24-4d5e-94f4-b532915c4cf7"
      },
      "execution_count": null,
      "outputs": [
        {
          "output_type": "execute_result",
          "data": {
            "text/plain": [
              "[((0.7963, '4.7e-12'), (0.8061, '1.6e-12')),\n",
              " ((-0.8355, '4.5e-14'), (-0.8321, '7.0e-14')),\n",
              " ((0.8323, '6.9e-14'), (0.8335, '5.9e-14')),\n",
              " ((-0.7643, '1.1e-10'), (-0.7455, '5.3e-10')),\n",
              " ((0.251, '7.9e-02'), (0.233, '1.0e-01')),\n",
              " ((0.3716, '7.9e-03'), (0.3225, '2.2e-02')),\n",
              " ((0.9174, '7.8e-21'), (0.9392, '6.3e-24')),\n",
              " ((-0.754, '2.6e-10'), (-0.7378, '9.8e-10'))]"
            ]
          },
          "metadata": {},
          "execution_count": 146
        }
      ]
    },
    {
      "cell_type": "markdown",
      "source": [
        "## Visualise data"
      ],
      "metadata": {
        "id": "wyfHTFks-vuv"
      }
    },
    {
      "cell_type": "code",
      "source": [
        "sns.set(font_scale=1.7)\n",
        "\n",
        "p = sns.relplot(\n",
        "    data=df_examples_molten,\n",
        "    kind='scatter',\n",
        "    col='variable',\n",
        "    col_wrap=4,\n",
        "    y='value',\n",
        "    x='x'\n",
        ")\n",
        "\n",
        "[ax.set_title(f'{ax.get_title()}\\npear={c[0]}\\nspea={c[1]}') for ax, c in zip(p.axes, corrs)];\n",
        "\n",
        "plt.tight_layout()"
      ],
      "metadata": {
        "colab": {
          "base_uri": "https://localhost:8080/",
          "height": 653
        },
        "id": "L6OWfFzahCe7",
        "outputId": "0f251991-74ba-443f-ffab-06b07ab7b166"
      },
      "execution_count": null,
      "outputs": [
        {
          "output_type": "display_data",
          "data": {
            "text/plain": [
              "<Figure size 1440x720 with 8 Axes>"
            ],
            "image/png": "[encoded data removed]"
          },
          "metadata": {}
        }
      ]
    },
    {
      "cell_type": "markdown",
      "source": [
        "# Application to OMICS data\n",
        "\n",
        "\n"
      ],
      "metadata": {
        "id": "MslJEcWpwgHc"
      }
    },
    {
      "cell_type": "markdown",
      "source": [
        "## Get the data from GEO\n",
        "\n",
        "\n",
        "Vecellio, Matteo, Elvezia Maria Paraboschi, Angela Ceribelli, Natasa Isailovic, Francesca Motta, Giulia Cardamone, Michela Robusto, et al. “DNA Methylation Signature in Monozygotic Twins Discordant for Psoriatic Disease.” Frontiers in Cell and Developmental Biology 9 (November 24, 2021): 778677. https://doi.org/10.3389/fcell.2021.778677."
      ],
      "metadata": {
        "id": "eGOS5k-q_E32"
      }
    },
    {
      "cell_type": "code",
      "source": [
        "! pip install GEOparse"
      ],
      "metadata": {
        "colab": {
          "base_uri": "https://localhost:8080/"
        },
        "id": "idYzLNy4yFtR",
        "outputId": "0316a1ab-267a-4645-a2d0-95e53871d973"
      },
      "execution_count": null,
      "outputs": [
        {
          "output_type": "stream",
          "name": "stdout",
          "text": [
            "Looking in indexes: https://pypi.org/simple, https://us-python.pkg.dev/colab-wheels/public/simple/\n",
            "Collecting GEOparse\n",
            "  Downloading GEOparse-2.0.3.tar.gz (278 kB)\n",
            "\u001b[K     |████████████████████████████████| 278 kB 4.2 MB/s \n",
            "\u001b[?25hRequirement already satisfied: numpy>=1.7 in /usr/local/lib/python3.7/dist-packages (from GEOparse) (1.21.6)\n",
            "Requirement already satisfied: pandas>=0.17 in /usr/local/lib/python3.7/dist-packages (from GEOparse) (1.3.5)\n",
            "Requirement already satisfied: requests>=2.21.0 in /usr/local/lib/python3.7/dist-packages (from GEOparse) (2.23.0)\n",
            "Requirement already satisfied: tqdm>=4.31.1 in /usr/local/lib/python3.7/dist-packages (from GEOparse) (4.64.0)\n",
            "Requirement already satisfied: python-dateutil>=2.7.3 in /usr/local/lib/python3.7/dist-packages (from pandas>=0.17->GEOparse) (2.8.2)\n",
            "Requirement already satisfied: pytz>=2017.3 in /usr/local/lib/python3.7/dist-packages (from pandas>=0.17->GEOparse) (2022.1)\n",
            "Requirement already satisfied: six>=1.5 in /usr/local/lib/python3.7/dist-packages (from python-dateutil>=2.7.3->pandas>=0.17->GEOparse) (1.15.0)\n",
            "Requirement already satisfied: urllib3!=1.25.0,!=1.25.1,<1.26,>=1.21.1 in /usr/local/lib/python3.7/dist-packages (from requests>=2.21.0->GEOparse) (1.24.3)\n",
            "Requirement already satisfied: certifi>=2017.4.17 in /usr/local/lib/python3.7/dist-packages (from requests>=2.21.0->GEOparse) (2022.6.15)\n",
            "Requirement already satisfied: idna<3,>=2.5 in /usr/local/lib/python3.7/dist-packages (from requests>=2.21.0->GEOparse) (2.10)\n",
            "Requirement already satisfied: chardet<4,>=3.0.2 in /usr/local/lib/python3.7/dist-packages (from requests>=2.21.0->GEOparse) (3.0.4)\n",
            "Building wheels for collected packages: GEOparse\n",
            "  Building wheel for GEOparse (setup.py) ... \u001b[?25l\u001b[?25hdone\n",
            "  Created wheel for GEOparse: filename=GEOparse-2.0.3-py3-none-any.whl size=29065 sha256=5d8af42922ae02fc43a8bab0d2246909c3d453419421e80d8813200bd53a16c7\n",
            "  Stored in directory: /root/.cache/pip/wheels/4d/15/e8/fbf3b47444215d9728c20d7b35436b50086aa67c2ad6dcedad\n",
            "Successfully built GEOparse\n",
            "Installing collected packages: GEOparse\n",
            "Successfully installed GEOparse-2.0.3\n"
          ]
        }
      ]
    },
    {
      "cell_type": "code",
      "source": [
        "import requests\n",
        "import gzip\n",
        "from io import StringIO"
      ],
      "metadata": {
        "id": "y5kJoOvky41F"
      },
      "execution_count": null,
      "outputs": []
    },
    {
      "cell_type": "markdown",
      "source": [
        "### using GEOparse to get the data"
      ],
      "metadata": {
        "id": "flP1Og_kII9F"
      }
    },
    {
      "cell_type": "code",
      "source": [
        "import GEOparse\n",
        "\n",
        "gse = GEOparse.get_GEO(geo=\"GSE186725\", destdir=\"./\")"
      ],
      "metadata": {
        "colab": {
          "base_uri": "https://localhost:8080/"
        },
        "id": "wJno9OWi0U1G",
        "outputId": "d5e7783b-0039-4cad-9573-5cf29ef8ad72"
      },
      "execution_count": null,
      "outputs": [
        {
          "output_type": "stream",
          "name": "stderr",
          "text": [
            "15-Aug-2022 10:16:06 DEBUG utils - Directory ./ already exists. Skipping.\n",
            "DEBUG:GEOparse:Directory ./ already exists. Skipping.\n",
            "15-Aug-2022 10:16:06 INFO GEOparse - Downloading ftp://ftp.ncbi.nlm.nih.gov/geo/series/GSE186nnn/GSE186725/soft/GSE186725_family.soft.gz to ./GSE186725_family.soft.gz\n",
            "INFO:GEOparse:Downloading ftp://ftp.ncbi.nlm.nih.gov/geo/series/GSE186nnn/GSE186725/soft/GSE186725_family.soft.gz to ./GSE186725_family.soft.gz\n",
            "100%|██████████| 154M/154M [00:33<00:00, 4.79MB/s]\n",
            "15-Aug-2022 10:16:41 DEBUG downloader - Size validation passed\n",
            "DEBUG:GEOparse:Size validation passed\n",
            "15-Aug-2022 10:16:41 DEBUG downloader - Moving /tmp/tmptpuijt6a to /content/GSE186725_family.soft.gz\n",
            "DEBUG:GEOparse:Moving /tmp/tmptpuijt6a to /content/GSE186725_family.soft.gz\n",
            "15-Aug-2022 10:16:41 DEBUG downloader - Successfully downloaded ftp://ftp.ncbi.nlm.nih.gov/geo/series/GSE186nnn/GSE186725/soft/GSE186725_family.soft.gz\n",
            "DEBUG:GEOparse:Successfully downloaded ftp://ftp.ncbi.nlm.nih.gov/geo/series/GSE186nnn/GSE186725/soft/GSE186725_family.soft.gz\n",
            "15-Aug-2022 10:16:41 INFO GEOparse - Parsing ./GSE186725_family.soft.gz: \n",
            "INFO:GEOparse:Parsing ./GSE186725_family.soft.gz: \n",
            "15-Aug-2022 10:16:41 DEBUG GEOparse - DATABASE: GeoMiame\n",
            "DEBUG:GEOparse:DATABASE: GeoMiame\n",
            "15-Aug-2022 10:16:41 DEBUG GEOparse - SERIES: GSE186725\n",
            "DEBUG:GEOparse:SERIES: GSE186725\n",
            "15-Aug-2022 10:16:41 DEBUG GEOparse - PLATFORM: GPL18573\n",
            "DEBUG:GEOparse:PLATFORM: GPL18573\n",
            "15-Aug-2022 10:16:41 DEBUG GEOparse - PLATFORM: GPL23976\n",
            "DEBUG:GEOparse:PLATFORM: GPL23976\n",
            "15-Aug-2022 10:16:44 DEBUG GEOparse - SAMPLE: GSM5659264\n",
            "DEBUG:GEOparse:SAMPLE: GSM5659264\n",
            "15-Aug-2022 10:16:46 DEBUG GEOparse - SAMPLE: GSM5659265\n",
            "DEBUG:GEOparse:SAMPLE: GSM5659265\n",
            "15-Aug-2022 10:16:49 DEBUG GEOparse - SAMPLE: GSM5659266\n",
            "DEBUG:GEOparse:SAMPLE: GSM5659266\n",
            "15-Aug-2022 10:16:51 DEBUG GEOparse - SAMPLE: GSM5659267\n",
            "DEBUG:GEOparse:SAMPLE: GSM5659267\n",
            "15-Aug-2022 10:16:54 DEBUG GEOparse - SAMPLE: GSM5659268\n",
            "DEBUG:GEOparse:SAMPLE: GSM5659268\n",
            "15-Aug-2022 10:17:00 DEBUG GEOparse - SAMPLE: GSM5659269\n",
            "DEBUG:GEOparse:SAMPLE: GSM5659269\n",
            "15-Aug-2022 10:17:05 DEBUG GEOparse - SAMPLE: GSM5659270\n",
            "DEBUG:GEOparse:SAMPLE: GSM5659270\n",
            "15-Aug-2022 10:17:10 DEBUG GEOparse - SAMPLE: GSM5659271\n",
            "DEBUG:GEOparse:SAMPLE: GSM5659271\n",
            "15-Aug-2022 10:17:16 DEBUG GEOparse - SAMPLE: GSM5659272\n",
            "DEBUG:GEOparse:SAMPLE: GSM5659272\n",
            "15-Aug-2022 10:17:22 DEBUG GEOparse - SAMPLE: GSM5659273\n",
            "DEBUG:GEOparse:SAMPLE: GSM5659273\n",
            "15-Aug-2022 10:17:27 DEBUG GEOparse - SAMPLE: GSM5659274\n",
            "DEBUG:GEOparse:SAMPLE: GSM5659274\n",
            "15-Aug-2022 10:17:32 DEBUG GEOparse - SAMPLE: GSM5659275\n",
            "DEBUG:GEOparse:SAMPLE: GSM5659275\n",
            "15-Aug-2022 10:17:36 DEBUG GEOparse - SAMPLE: GSM5659276\n",
            "DEBUG:GEOparse:SAMPLE: GSM5659276\n",
            "15-Aug-2022 10:17:40 DEBUG GEOparse - SAMPLE: GSM5659277\n",
            "DEBUG:GEOparse:SAMPLE: GSM5659277\n",
            "15-Aug-2022 10:17:44 DEBUG GEOparse - SAMPLE: GSM5660021\n",
            "DEBUG:GEOparse:SAMPLE: GSM5660021\n",
            "15-Aug-2022 10:17:44 DEBUG GEOparse - SAMPLE: GSM5660022\n",
            "DEBUG:GEOparse:SAMPLE: GSM5660022\n",
            "15-Aug-2022 10:17:44 DEBUG GEOparse - SAMPLE: GSM5660023\n",
            "DEBUG:GEOparse:SAMPLE: GSM5660023\n",
            "15-Aug-2022 10:17:44 DEBUG GEOparse - SAMPLE: GSM5660024\n",
            "DEBUG:GEOparse:SAMPLE: GSM5660024\n",
            "15-Aug-2022 10:17:45 DEBUG GEOparse - SAMPLE: GSM5660025\n",
            "DEBUG:GEOparse:SAMPLE: GSM5660025\n",
            "15-Aug-2022 10:17:45 DEBUG GEOparse - SAMPLE: GSM5660026\n",
            "DEBUG:GEOparse:SAMPLE: GSM5660026\n",
            "15-Aug-2022 10:17:45 DEBUG GEOparse - SAMPLE: GSM5660027\n",
            "DEBUG:GEOparse:SAMPLE: GSM5660027\n",
            "15-Aug-2022 10:17:45 DEBUG GEOparse - SAMPLE: GSM5660028\n",
            "DEBUG:GEOparse:SAMPLE: GSM5660028\n",
            "15-Aug-2022 10:17:45 DEBUG GEOparse - SAMPLE: GSM5660029\n",
            "DEBUG:GEOparse:SAMPLE: GSM5660029\n",
            "15-Aug-2022 10:17:45 DEBUG GEOparse - SAMPLE: GSM5660030\n",
            "DEBUG:GEOparse:SAMPLE: GSM5660030\n",
            "15-Aug-2022 10:17:45 DEBUG GEOparse - SAMPLE: GSM5660031\n",
            "DEBUG:GEOparse:SAMPLE: GSM5660031\n",
            "15-Aug-2022 10:17:45 DEBUG GEOparse - SAMPLE: GSM5660032\n",
            "DEBUG:GEOparse:SAMPLE: GSM5660032\n",
            "15-Aug-2022 10:17:45 DEBUG GEOparse - SAMPLE: GSM5660033\n",
            "DEBUG:GEOparse:SAMPLE: GSM5660033\n",
            "15-Aug-2022 10:17:45 DEBUG GEOparse - SAMPLE: GSM5660034\n",
            "DEBUG:GEOparse:SAMPLE: GSM5660034\n"
          ]
        }
      ]
    },
    {
      "cell_type": "markdown",
      "source": [
        "### combine the subject data into one table"
      ],
      "metadata": {
        "id": "eZb0oa0FTcag"
      }
    },
    {
      "cell_type": "code",
      "source": [
        "gsms_list = []\n",
        "\n",
        "for k,v in gse.gsms.items():\n",
        "    print(f'k={k}')\n",
        "    if v.table.shape == (0,0): \n",
        "        print(f'{k} skipped')\n",
        "        continue\n",
        "    df = v.table.set_index('ID_REF').loc[:, ['VALUE']].rename(columns={'VALUE':k})\n",
        "    gsms_list.append(df)\n",
        "\n",
        "df_gsms = pd.concat(gsms_list, axis=1)\n",
        "df_gsms"
      ],
      "metadata": {
        "colab": {
          "base_uri": "https://localhost:8080/",
          "height": 1000
        },
        "id": "Ac1vsTFwF12L",
        "outputId": "7878c5a3-8716-49ec-bfa4-ec97d6e850aa"
      },
      "execution_count": null,
      "outputs": [
        {
          "output_type": "stream",
          "name": "stdout",
          "text": [
            "k=GSM5659264\n",
            "k=GSM5659265\n",
            "k=GSM5659266\n",
            "k=GSM5659267\n",
            "k=GSM5659268\n",
            "k=GSM5659269\n",
            "k=GSM5659270\n",
            "k=GSM5659271\n",
            "k=GSM5659272\n",
            "k=GSM5659273\n",
            "k=GSM5659274\n",
            "k=GSM5659275\n",
            "k=GSM5659276\n",
            "k=GSM5659277\n",
            "k=GSM5660021\n",
            "GSM5660021 skipped\n",
            "k=GSM5660022\n",
            "GSM5660022 skipped\n",
            "k=GSM5660023\n",
            "GSM5660023 skipped\n",
            "k=GSM5660024\n",
            "GSM5660024 skipped\n",
            "k=GSM5660025\n",
            "GSM5660025 skipped\n",
            "k=GSM5660026\n",
            "GSM5660026 skipped\n",
            "k=GSM5660027\n",
            "GSM5660027 skipped\n",
            "k=GSM5660028\n",
            "GSM5660028 skipped\n",
            "k=GSM5660029\n",
            "GSM5660029 skipped\n",
            "k=GSM5660030\n",
            "GSM5660030 skipped\n",
            "k=GSM5660031\n",
            "GSM5660031 skipped\n",
            "k=GSM5660032\n",
            "GSM5660032 skipped\n",
            "k=GSM5660033\n",
            "GSM5660033 skipped\n",
            "k=GSM5660034\n",
            "GSM5660034 skipped\n"
          ]
        },
        {
          "output_type": "execute_result",
          "data": {
            "text/plain": [
              "            GSM5659264  GSM5659265  GSM5659266  GSM5659267  GSM5659268  \\\n",
              "ID_REF                                                                   \n",
              "cg21870274    0.717644    0.623090    0.699173    0.722394    0.620598   \n",
              "cg23917638    0.222775    0.257145    0.261793    0.262462    0.286617   \n",
              "cg11422233    0.105064    0.096016    0.098620    0.100831    0.114871   \n",
              "cg16047670    0.084203    0.062902    0.075271    0.118412    0.153745   \n",
              "cg17505339    0.894870    0.884246    0.861249    0.889788    0.884012   \n",
              "...                ...         ...         ...         ...         ...   \n",
              "cg24129471    0.840429    0.812653    0.794934    0.807996    0.812888   \n",
              "cg11295469    0.052575    0.039928    0.085418    0.038910    0.040018   \n",
              "cg06701842    0.093307    0.091811    0.100394    0.092111    0.103767   \n",
              "cg19565306    0.077562    0.052253    0.086755    0.079103    0.066703   \n",
              "cg22012975    0.063088    0.041895    0.067953    0.054450    0.053740   \n",
              "\n",
              "            GSM5659269  GSM5659270  GSM5659271  GSM5659272  GSM5659273  \\\n",
              "ID_REF                                                                   \n",
              "cg21870274    0.649515    0.654860    0.723397    0.667414    0.702514   \n",
              "cg23917638    0.267334    0.267945    0.301237    0.294267    0.319399   \n",
              "cg11422233    0.141795    0.184840    0.196612    0.094769    0.094737   \n",
              "cg16047670    0.201933    0.081321    0.130133    0.081040    0.122973   \n",
              "cg17505339    0.898232    0.887752    0.877330    0.892998    0.897178   \n",
              "...                ...         ...         ...         ...         ...   \n",
              "cg24129471    0.815405    0.809935    0.806661    0.788117    0.816461   \n",
              "cg11295469    0.050957    0.059428    0.042728    0.049503    0.042186   \n",
              "cg06701842    0.090509    0.088102    0.114689    0.090540    0.104403   \n",
              "cg19565306    0.066092    0.081811    0.088455    0.081875    0.070526   \n",
              "cg22012975    0.054883    0.064671    0.044637    0.065084    0.058975   \n",
              "\n",
              "            GSM5659274  GSM5659275  GSM5659276  GSM5659277  \n",
              "ID_REF                                                      \n",
              "cg21870274    0.663657    0.646835    0.672293    0.646838  \n",
              "cg23917638    0.283692    0.283053    0.292894    0.288995  \n",
              "cg11422233    0.117478    0.118236    0.110763    0.113184  \n",
              "cg16047670    0.129961    0.077088    0.115130    0.078989  \n",
              "cg17505339    0.880156    0.888185    0.864156    0.888791  \n",
              "...                ...         ...         ...         ...  \n",
              "cg24129471    0.803382    0.804628    0.835555    0.788622  \n",
              "cg11295469    0.044931    0.051336    0.042148    0.056155  \n",
              "cg06701842    0.086506    0.099258    0.095164    0.081168  \n",
              "cg19565306    0.081805    0.079408    0.097167    0.085008  \n",
              "cg22012975    0.058646    0.060903    0.063617    0.063066  \n",
              "\n",
              "[761774 rows x 14 columns]"
            ],
            "text/html": [
              "\n",
              "  <div id=\"df-e8cb2f68-50fd-4a5e-be34-b97fa3a1cade\">\n",
              "    <div class=\"colab-df-container\">\n",
              "      <div>\n",
              "<style scoped>\n",
              "    .dataframe tbody tr th:only-of-type {\n",
              "        vertical-align: middle;\n",
              "    }\n",
              "\n",
              "    .dataframe tbody tr th {\n",
              "        vertical-align: top;\n",
              "    }\n",
              "\n",
              "    .dataframe thead th {\n",
              "        text-align: right;\n",
              "    }\n",
              "</style>\n",
              "<table border=\"1\" class=\"dataframe\">\n",
              "  <thead>\n",
              "    <tr style=\"text-align: right;\">\n",
              "      <th></th>\n",
              "      <th>GSM5659264</th>\n",
              "      <th>GSM5659265</th>\n",
              "      <th>GSM5659266</th>\n",
              "      <th>GSM5659267</th>\n",
              "      <th>GSM5659268</th>\n",
              "      <th>GSM5659269</th>\n",
              "      <th>GSM5659270</th>\n",
              "      <th>GSM5659271</th>\n",
              "      <th>GSM5659272</th>\n",
              "      <th>GSM5659273</th>\n",
              "      <th>GSM5659274</th>\n",
              "      <th>GSM5659275</th>\n",
              "      <th>GSM5659276</th>\n",
              "      <th>GSM5659277</th>\n",
              "    </tr>\n",
              "    <tr>\n",
              "      <th>ID_REF</th>\n",
              "      <th></th>\n",
              "      <th></th>\n",
              "      <th></th>\n",
              "      <th></th>\n",
              "      <th></th>\n",
              "      <th></th>\n",
              "      <th></th>\n",
              "      <th></th>\n",
              "      <th></th>\n",
              "      <th></th>\n",
              "      <th></th>\n",
              "      <th></th>\n",
              "      <th></th>\n",
              "      <th></th>\n",
              "    </tr>\n",
              "  </thead>\n",
              "  <tbody>\n",
              "    <tr>\n",
              "      <th>cg21870274</th>\n",
              "      <td>0.717644</td>\n",
              "      <td>0.623090</td>\n",
              "      <td>0.699173</td>\n",
              "      <td>0.722394</td>\n",
              "      <td>0.620598</td>\n",
              "      <td>0.649515</td>\n",
              "      <td>0.654860</td>\n",
              "      <td>0.723397</td>\n",
              "      <td>0.667414</td>\n",
              "      <td>0.702514</td>\n",
              "      <td>0.663657</td>\n",
              "      <td>0.646835</td>\n",
              "      <td>0.672293</td>\n",
              "      <td>0.646838</td>\n",
              "    </tr>\n",
              "    <tr>\n",
              "      <th>cg23917638</th>\n",
              "      <td>0.222775</td>\n",
              "      <td>0.257145</td>\n",
              "      <td>0.261793</td>\n",
              "      <td>0.262462</td>\n",
              "      <td>0.286617</td>\n",
              "      <td>0.267334</td>\n",
              "      <td>0.267945</td>\n",
              "      <td>0.301237</td>\n",
              "      <td>0.294267</td>\n",
              "      <td>0.319399</td>\n",
              "      <td>0.283692</td>\n",
              "      <td>0.283053</td>\n",
              "      <td>0.292894</td>\n",
              "      <td>0.288995</td>\n",
              "    </tr>\n",
              "    <tr>\n",
              "      <th>cg11422233</th>\n",
              "      <td>0.105064</td>\n",
              "      <td>0.096016</td>\n",
              "      <td>0.098620</td>\n",
              "      <td>0.100831</td>\n",
              "      <td>0.114871</td>\n",
              "      <td>0.141795</td>\n",
              "      <td>0.184840</td>\n",
              "      <td>0.196612</td>\n",
              "      <td>0.094769</td>\n",
              "      <td>0.094737</td>\n",
              "      <td>0.117478</td>\n",
              "      <td>0.118236</td>\n",
              "      <td>0.110763</td>\n",
              "      <td>0.113184</td>\n",
              "    </tr>\n",
              "    <tr>\n",
              "      <th>cg16047670</th>\n",
              "      <td>0.084203</td>\n",
              "      <td>0.062902</td>\n",
              "      <td>0.075271</td>\n",
              "      <td>0.118412</td>\n",
              "      <td>0.153745</td>\n",
              "      <td>0.201933</td>\n",
              "      <td>0.081321</td>\n",
              "      <td>0.130133</td>\n",
              "      <td>0.081040</td>\n",
              "      <td>0.122973</td>\n",
              "      <td>0.129961</td>\n",
              "      <td>0.077088</td>\n",
              "      <td>0.115130</td>\n",
              "      <td>0.078989</td>\n",
              "    </tr>\n",
              "    <tr>\n",
              "      <th>cg17505339</th>\n",
              "      <td>0.894870</td>\n",
              "      <td>0.884246</td>\n",
              "      <td>0.861249</td>\n",
              "      <td>0.889788</td>\n",
              "      <td>0.884012</td>\n",
              "      <td>0.898232</td>\n",
              "      <td>0.887752</td>\n",
              "      <td>0.877330</td>\n",
              "      <td>0.892998</td>\n",
              "      <td>0.897178</td>\n",
              "      <td>0.880156</td>\n",
              "      <td>0.888185</td>\n",
              "      <td>0.864156</td>\n",
              "      <td>0.888791</td>\n",
              "    </tr>\n",
              "    <tr>\n",
              "      <th>...</th>\n",
              "      <td>...</td>\n",
              "      <td>...</td>\n",
              "      <td>...</td>\n",
              "      <td>...</td>\n",
              "      <td>...</td>\n",
              "      <td>...</td>\n",
              "      <td>...</td>\n",
              "      <td>...</td>\n",
              "      <td>...</td>\n",
              "      <td>...</td>\n",
              "      <td>...</td>\n",
              "      <td>...</td>\n",
              "      <td>...</td>\n",
              "      <td>...</td>\n",
              "    </tr>\n",
              "    <tr>\n",
              "      <th>cg24129471</th>\n",
              "      <td>0.840429</td>\n",
              "      <td>0.812653</td>\n",
              "      <td>0.794934</td>\n",
              "      <td>0.807996</td>\n",
              "      <td>0.812888</td>\n",
              "      <td>0.815405</td>\n",
              "      <td>0.809935</td>\n",
              "      <td>0.806661</td>\n",
              "      <td>0.788117</td>\n",
              "      <td>0.816461</td>\n",
              "      <td>0.803382</td>\n",
              "      <td>0.804628</td>\n",
              "      <td>0.835555</td>\n",
              "      <td>0.788622</td>\n",
              "    </tr>\n",
              "    <tr>\n",
              "      <th>cg11295469</th>\n",
              "      <td>0.052575</td>\n",
              "      <td>0.039928</td>\n",
              "      <td>0.085418</td>\n",
              "      <td>0.038910</td>\n",
              "      <td>0.040018</td>\n",
              "      <td>0.050957</td>\n",
              "      <td>0.059428</td>\n",
              "      <td>0.042728</td>\n",
              "      <td>0.049503</td>\n",
              "      <td>0.042186</td>\n",
              "      <td>0.044931</td>\n",
              "      <td>0.051336</td>\n",
              "      <td>0.042148</td>\n",
              "      <td>0.056155</td>\n",
              "    </tr>\n",
              "    <tr>\n",
              "      <th>cg06701842</th>\n",
              "      <td>0.093307</td>\n",
              "      <td>0.091811</td>\n",
              "      <td>0.100394</td>\n",
              "      <td>0.092111</td>\n",
              "      <td>0.103767</td>\n",
              "      <td>0.090509</td>\n",
              "      <td>0.088102</td>\n",
              "      <td>0.114689</td>\n",
              "      <td>0.090540</td>\n",
              "      <td>0.104403</td>\n",
              "      <td>0.086506</td>\n",
              "      <td>0.099258</td>\n",
              "      <td>0.095164</td>\n",
              "      <td>0.081168</td>\n",
              "    </tr>\n",
              "    <tr>\n",
              "      <th>cg19565306</th>\n",
              "      <td>0.077562</td>\n",
              "      <td>0.052253</td>\n",
              "      <td>0.086755</td>\n",
              "      <td>0.079103</td>\n",
              "      <td>0.066703</td>\n",
              "      <td>0.066092</td>\n",
              "      <td>0.081811</td>\n",
              "      <td>0.088455</td>\n",
              "      <td>0.081875</td>\n",
              "      <td>0.070526</td>\n",
              "      <td>0.081805</td>\n",
              "      <td>0.079408</td>\n",
              "      <td>0.097167</td>\n",
              "      <td>0.085008</td>\n",
              "    </tr>\n",
              "    <tr>\n",
              "      <th>cg22012975</th>\n",
              "      <td>0.063088</td>\n",
              "      <td>0.041895</td>\n",
              "      <td>0.067953</td>\n",
              "      <td>0.054450</td>\n",
              "      <td>0.053740</td>\n",
              "      <td>0.054883</td>\n",
              "      <td>0.064671</td>\n",
              "      <td>0.044637</td>\n",
              "      <td>0.065084</td>\n",
              "      <td>0.058975</td>\n",
              "      <td>0.058646</td>\n",
              "      <td>0.060903</td>\n",
              "      <td>0.063617</td>\n",
              "      <td>0.063066</td>\n",
              "    </tr>\n",
              "  </tbody>\n",
              "</table>\n",
              "<p>761774 rows × 14 columns</p>\n",
              "</div>\n",
              "      <button class=\"colab-df-convert\" onclick=\"convertToInteractive('df-e8cb2f68-50fd-4a5e-be34-b97fa3a1cade')\"\n",
              "              title=\"Convert this dataframe to an interactive table.\"\n",
              "              style=\"display:none;\">\n",
              "        \n",
              "  <svg xmlns=\"http://www.w3.org/2000/svg\" height=\"24px\"viewBox=\"0 0 24 24\"\n",
              "       width=\"24px\">\n",
              "    <path d=\"M0 0h24v24H0V0z\" fill=\"none\"/>\n",
              "    <path d=\"M18.56 5.44l.94 2.06.94-2.06 2.06-.94-2.06-.94-.94-2.06-.94 2.06-2.06.94zm-11 1L8.5 8.5l.94-2.06 2.06-.94-2.06-.94L8.5 2.5l-.94 2.06-2.06.94zm10 10l.94 2.06.94-2.06 2.06-.94-2.06-.94-.94-2.06-.94 2.06-2.06.94z\"/><path d=\"M17.41 7.96l-1.37-1.37c-.4-.4-.92-.59-1.43-.59-.52 0-1.04.2-1.43.59L10.3 9.45l-7.72 7.72c-.78.78-.78 2.05 0 2.83L4 21.41c.39.39.9.59 1.41.59.51 0 1.02-.2 1.41-.59l7.78-7.78 2.81-2.81c.8-.78.8-2.07 0-2.86zM5.41 20L4 18.59l7.72-7.72 1.47 1.35L5.41 20z\"/>\n",
              "  </svg>\n",
              "      </button>\n",
              "      \n",
              "  <style>\n",
              "    .colab-df-container {\n",
              "      display:flex;\n",
              "      flex-wrap:wrap;\n",
              "      gap: 12px;\n",
              "    }\n",
              "\n",
              "    .colab-df-convert {\n",
              "      background-color: #E8F0FE;\n",
              "      border: none;\n",
              "      border-radius: 50%;\n",
              "      cursor: pointer;\n",
              "      display: none;\n",
              "      fill: #1967D2;\n",
              "      height: 32px;\n",
              "      padding: 0 0 0 0;\n",
              "      width: 32px;\n",
              "    }\n",
              "\n",
              "    .colab-df-convert:hover {\n",
              "      background-color: #E2EBFA;\n",
              "      box-shadow: 0px 1px 2px rgba(60, 64, 67, 0.3), 0px 1px 3px 1px rgba(60, 64, 67, 0.15);\n",
              "      fill: #174EA6;\n",
              "    }\n",
              "\n",
              "    [theme=dark] .colab-df-convert {\n",
              "      background-color: #3B4455;\n",
              "      fill: #D2E3FC;\n",
              "    }\n",
              "\n",
              "    [theme=dark] .colab-df-convert:hover {\n",
              "      background-color: #434B5C;\n",
              "      box-shadow: 0px 1px 3px 1px rgba(0, 0, 0, 0.15);\n",
              "      filter: drop-shadow(0px 1px 2px rgba(0, 0, 0, 0.3));\n",
              "      fill: #FFFFFF;\n",
              "    }\n",
              "  </style>\n",
              "\n",
              "      <script>\n",
              "        const buttonEl =\n",
              "          document.querySelector('#df-e8cb2f68-50fd-4a5e-be34-b97fa3a1cade button.colab-df-convert');\n",
              "        buttonEl.style.display =\n",
              "          google.colab.kernel.accessAllowed ? 'block' : 'none';\n",
              "\n",
              "        async function convertToInteractive(key) {\n",
              "          const element = document.querySelector('#df-e8cb2f68-50fd-4a5e-be34-b97fa3a1cade');\n",
              "          const dataTable =\n",
              "            await google.colab.kernel.invokeFunction('convertToInteractive',\n",
              "                                                     [key], {});\n",
              "          if (!dataTable) return;\n",
              "\n",
              "          const docLinkHtml = 'Like what you see? Visit the ' +\n",
              "            '<a target=\"_blank\" href=https://colab.research.google.com/notebooks/data_table.ipynb>data table notebook</a>'\n",
              "            + ' to learn more about interactive tables.';\n",
              "          element.innerHTML = '';\n",
              "          dataTable['output_type'] = 'display_data';\n",
              "          await google.colab.output.renderOutput(dataTable, element);\n",
              "          const docLink = document.createElement('div');\n",
              "          docLink.innerHTML = docLinkHtml;\n",
              "          element.appendChild(docLink);\n",
              "        }\n",
              "      </script>\n",
              "    </div>\n",
              "  </div>\n",
              "  "
            ]
          },
          "metadata": {},
          "execution_count": 21
        }
      ]
    },
    {
      "cell_type": "markdown",
      "source": [
        "### get the phenotype data of disease state and twin set"
      ],
      "metadata": {
        "id": "izQJMnmbTw1G"
      }
    },
    {
      "cell_type": "code",
      "source": [
        "ser_affected = gse.phenotype_data.loc[:, 'characteristics_ch1.1.disease state']\n",
        "ser_affected = ser_affected.loc[~ser_affected.isna()]\n",
        "ser_affected = ser_affected.apply(lambda x: True if x=='affected' else False)\n",
        "ser_affected.name = 'disease_state'\n",
        "ser_affected = ser_affected.to_frame()\n",
        "ser_affected['twin_set'] = [np.ceil(x/2) for x in range(1,15)]\n",
        "ser_affected.index.name = 'ID_REF'\n",
        "ser_affected"
      ],
      "metadata": {
        "colab": {
          "base_uri": "https://localhost:8080/",
          "height": 520
        },
        "id": "Vx08wc98GdHO",
        "outputId": "7eb6e5a2-005e-44ed-9eb5-873568438f5f"
      },
      "execution_count": null,
      "outputs": [
        {
          "output_type": "execute_result",
          "data": {
            "text/plain": [
              "            disease_state  twin_set\n",
              "ID_REF                             \n",
              "GSM5659264          False       1.0\n",
              "GSM5659265           True       1.0\n",
              "GSM5659266          False       2.0\n",
              "GSM5659267           True       2.0\n",
              "GSM5659268          False       3.0\n",
              "GSM5659269           True       3.0\n",
              "GSM5659270           True       4.0\n",
              "GSM5659271          False       4.0\n",
              "GSM5659272           True       5.0\n",
              "GSM5659273          False       5.0\n",
              "GSM5659274          False       6.0\n",
              "GSM5659275           True       6.0\n",
              "GSM5659276           True       7.0\n",
              "GSM5659277          False       7.0"
            ],
            "text/html": [
              "\n",
              "  <div id=\"df-3c01728d-6df8-4a3d-86da-5b1ea78d3019\">\n",
              "    <div class=\"colab-df-container\">\n",
              "      <div>\n",
              "<style scoped>\n",
              "    .dataframe tbody tr th:only-of-type {\n",
              "        vertical-align: middle;\n",
              "    }\n",
              "\n",
              "    .dataframe tbody tr th {\n",
              "        vertical-align: top;\n",
              "    }\n",
              "\n",
              "    .dataframe thead th {\n",
              "        text-align: right;\n",
              "    }\n",
              "</style>\n",
              "<table border=\"1\" class=\"dataframe\">\n",
              "  <thead>\n",
              "    <tr style=\"text-align: right;\">\n",
              "      <th></th>\n",
              "      <th>disease_state</th>\n",
              "      <th>twin_set</th>\n",
              "    </tr>\n",
              "    <tr>\n",
              "      <th>ID_REF</th>\n",
              "      <th></th>\n",
              "      <th></th>\n",
              "    </tr>\n",
              "  </thead>\n",
              "  <tbody>\n",
              "    <tr>\n",
              "      <th>GSM5659264</th>\n",
              "      <td>False</td>\n",
              "      <td>1.0</td>\n",
              "    </tr>\n",
              "    <tr>\n",
              "      <th>GSM5659265</th>\n",
              "      <td>True</td>\n",
              "      <td>1.0</td>\n",
              "    </tr>\n",
              "    <tr>\n",
              "      <th>GSM5659266</th>\n",
              "      <td>False</td>\n",
              "      <td>2.0</td>\n",
              "    </tr>\n",
              "    <tr>\n",
              "      <th>GSM5659267</th>\n",
              "      <td>True</td>\n",
              "      <td>2.0</td>\n",
              "    </tr>\n",
              "    <tr>\n",
              "      <th>GSM5659268</th>\n",
              "      <td>False</td>\n",
              "      <td>3.0</td>\n",
              "    </tr>\n",
              "    <tr>\n",
              "      <th>GSM5659269</th>\n",
              "      <td>True</td>\n",
              "      <td>3.0</td>\n",
              "    </tr>\n",
              "    <tr>\n",
              "      <th>GSM5659270</th>\n",
              "      <td>True</td>\n",
              "      <td>4.0</td>\n",
              "    </tr>\n",
              "    <tr>\n",
              "      <th>GSM5659271</th>\n",
              "      <td>False</td>\n",
              "      <td>4.0</td>\n",
              "    </tr>\n",
              "    <tr>\n",
              "      <th>GSM5659272</th>\n",
              "      <td>True</td>\n",
              "      <td>5.0</td>\n",
              "    </tr>\n",
              "    <tr>\n",
              "      <th>GSM5659273</th>\n",
              "      <td>False</td>\n",
              "      <td>5.0</td>\n",
              "    </tr>\n",
              "    <tr>\n",
              "      <th>GSM5659274</th>\n",
              "      <td>False</td>\n",
              "      <td>6.0</td>\n",
              "    </tr>\n",
              "    <tr>\n",
              "      <th>GSM5659275</th>\n",
              "      <td>True</td>\n",
              "      <td>6.0</td>\n",
              "    </tr>\n",
              "    <tr>\n",
              "      <th>GSM5659276</th>\n",
              "      <td>True</td>\n",
              "      <td>7.0</td>\n",
              "    </tr>\n",
              "    <tr>\n",
              "      <th>GSM5659277</th>\n",
              "      <td>False</td>\n",
              "      <td>7.0</td>\n",
              "    </tr>\n",
              "  </tbody>\n",
              "</table>\n",
              "</div>\n",
              "      <button class=\"colab-df-convert\" onclick=\"convertToInteractive('df-3c01728d-6df8-4a3d-86da-5b1ea78d3019')\"\n",
              "              title=\"Convert this dataframe to an interactive table.\"\n",
              "              style=\"display:none;\">\n",
              "        \n",
              "  <svg xmlns=\"http://www.w3.org/2000/svg\" height=\"24px\"viewBox=\"0 0 24 24\"\n",
              "       width=\"24px\">\n",
              "    <path d=\"M0 0h24v24H0V0z\" fill=\"none\"/>\n",
              "    <path d=\"M18.56 5.44l.94 2.06.94-2.06 2.06-.94-2.06-.94-.94-2.06-.94 2.06-2.06.94zm-11 1L8.5 8.5l.94-2.06 2.06-.94-2.06-.94L8.5 2.5l-.94 2.06-2.06.94zm10 10l.94 2.06.94-2.06 2.06-.94-2.06-.94-.94-2.06-.94 2.06-2.06.94z\"/><path d=\"M17.41 7.96l-1.37-1.37c-.4-.4-.92-.59-1.43-.59-.52 0-1.04.2-1.43.59L10.3 9.45l-7.72 7.72c-.78.78-.78 2.05 0 2.83L4 21.41c.39.39.9.59 1.41.59.51 0 1.02-.2 1.41-.59l7.78-7.78 2.81-2.81c.8-.78.8-2.07 0-2.86zM5.41 20L4 18.59l7.72-7.72 1.47 1.35L5.41 20z\"/>\n",
              "  </svg>\n",
              "      </button>\n",
              "      \n",
              "  <style>\n",
              "    .colab-df-container {\n",
              "      display:flex;\n",
              "      flex-wrap:wrap;\n",
              "      gap: 12px;\n",
              "    }\n",
              "\n",
              "    .colab-df-convert {\n",
              "      background-color: #E8F0FE;\n",
              "      border: none;\n",
              "      border-radius: 50%;\n",
              "      cursor: pointer;\n",
              "      display: none;\n",
              "      fill: #1967D2;\n",
              "      height: 32px;\n",
              "      padding: 0 0 0 0;\n",
              "      width: 32px;\n",
              "    }\n",
              "\n",
              "    .colab-df-convert:hover {\n",
              "      background-color: #E2EBFA;\n",
              "      box-shadow: 0px 1px 2px rgba(60, 64, 67, 0.3), 0px 1px 3px 1px rgba(60, 64, 67, 0.15);\n",
              "      fill: #174EA6;\n",
              "    }\n",
              "\n",
              "    [theme=dark] .colab-df-convert {\n",
              "      background-color: #3B4455;\n",
              "      fill: #D2E3FC;\n",
              "    }\n",
              "\n",
              "    [theme=dark] .colab-df-convert:hover {\n",
              "      background-color: #434B5C;\n",
              "      box-shadow: 0px 1px 3px 1px rgba(0, 0, 0, 0.15);\n",
              "      filter: drop-shadow(0px 1px 2px rgba(0, 0, 0, 0.3));\n",
              "      fill: #FFFFFF;\n",
              "    }\n",
              "  </style>\n",
              "\n",
              "      <script>\n",
              "        const buttonEl =\n",
              "          document.querySelector('#df-3c01728d-6df8-4a3d-86da-5b1ea78d3019 button.colab-df-convert');\n",
              "        buttonEl.style.display =\n",
              "          google.colab.kernel.accessAllowed ? 'block' : 'none';\n",
              "\n",
              "        async function convertToInteractive(key) {\n",
              "          const element = document.querySelector('#df-3c01728d-6df8-4a3d-86da-5b1ea78d3019');\n",
              "          const dataTable =\n",
              "            await google.colab.kernel.invokeFunction('convertToInteractive',\n",
              "                                                     [key], {});\n",
              "          if (!dataTable) return;\n",
              "\n",
              "          const docLinkHtml = 'Like what you see? Visit the ' +\n",
              "            '<a target=\"_blank\" href=https://colab.research.google.com/notebooks/data_table.ipynb>data table notebook</a>'\n",
              "            + ' to learn more about interactive tables.';\n",
              "          element.innerHTML = '';\n",
              "          dataTable['output_type'] = 'display_data';\n",
              "          await google.colab.output.renderOutput(dataTable, element);\n",
              "          const docLink = document.createElement('div');\n",
              "          docLink.innerHTML = docLinkHtml;\n",
              "          element.appendChild(docLink);\n",
              "        }\n",
              "      </script>\n",
              "    </div>\n",
              "  </div>\n",
              "  "
            ]
          },
          "metadata": {},
          "execution_count": 22
        }
      ]
    },
    {
      "cell_type": "code",
      "source": [
        "# df_twins = pd.concat([\n",
        "#     ser_affected.loc[ser_affected.disease_state, :].reset_index().set_index('twin_set', drop=True).gsm,\n",
        "#     ser_affected.loc[~ser_affected.disease_state, :].reset_index().set_index('twin_set', drop=True).gsm\n",
        "#     ],\n",
        "#     axis=1,\n",
        "#     )\n",
        "# df_twins.columns=['affected', 'not_affected']\n",
        "# df_twins"
      ],
      "metadata": {
        "id": "vyuwozIXLKhJ"
      },
      "execution_count": null,
      "outputs": []
    },
    {
      "cell_type": "markdown",
      "source": [
        "### filter to those DMP from paper corresponding to BRG1\n",
        "\n",
        "https://www.ncbi.nlm.nih.gov/pmc/articles/PMC8653905/"
      ],
      "metadata": {
        "id": "zbbNNfeeM6jF"
      }
    },
    {
      "cell_type": "code",
      "source": [
        "df_twinset_brg1 = df_gsms.filter(items=['cg17094383'], axis=0).T\n",
        "df_twinset_brg1 = pd.concat([df_twinset_brg1, ser_affected], axis=1)\n",
        "df_twinset_brg1"
      ],
      "metadata": {
        "colab": {
          "base_uri": "https://localhost:8080/",
          "height": 488
        },
        "id": "3rnyOtPgJMbu",
        "outputId": "d8d70590-52af-4a2f-89cc-1a4cbe8343e0"
      },
      "execution_count": null,
      "outputs": [
        {
          "output_type": "execute_result",
          "data": {
            "text/plain": [
              "            cg17094383  disease_state  twin_set\n",
              "GSM5659264    0.924222          False       1.0\n",
              "GSM5659265    0.921660           True       1.0\n",
              "GSM5659266    0.923499          False       2.0\n",
              "GSM5659267    0.937779           True       2.0\n",
              "GSM5659268    0.930018          False       3.0\n",
              "GSM5659269    0.933518           True       3.0\n",
              "GSM5659270    0.941234           True       4.0\n",
              "GSM5659271    0.931634          False       4.0\n",
              "GSM5659272    0.937788           True       5.0\n",
              "GSM5659273    0.920090          False       5.0\n",
              "GSM5659274    0.916145          False       6.0\n",
              "GSM5659275    0.925822           True       6.0\n",
              "GSM5659276    0.921255           True       7.0\n",
              "GSM5659277    0.908602          False       7.0"
            ],
            "text/html": [
              "\n",
              "  <div id=\"df-6141e09a-2143-4aee-a1c0-f70549afde01\">\n",
              "    <div class=\"colab-df-container\">\n",
              "      <div>\n",
              "<style scoped>\n",
              "    .dataframe tbody tr th:only-of-type {\n",
              "        vertical-align: middle;\n",
              "    }\n",
              "\n",
              "    .dataframe tbody tr th {\n",
              "        vertical-align: top;\n",
              "    }\n",
              "\n",
              "    .dataframe thead th {\n",
              "        text-align: right;\n",
              "    }\n",
              "</style>\n",
              "<table border=\"1\" class=\"dataframe\">\n",
              "  <thead>\n",
              "    <tr style=\"text-align: right;\">\n",
              "      <th></th>\n",
              "      <th>cg17094383</th>\n",
              "      <th>disease_state</th>\n",
              "      <th>twin_set</th>\n",
              "    </tr>\n",
              "  </thead>\n",
              "  <tbody>\n",
              "    <tr>\n",
              "      <th>GSM5659264</th>\n",
              "      <td>0.924222</td>\n",
              "      <td>False</td>\n",
              "      <td>1.0</td>\n",
              "    </tr>\n",
              "    <tr>\n",
              "      <th>GSM5659265</th>\n",
              "      <td>0.921660</td>\n",
              "      <td>True</td>\n",
              "      <td>1.0</td>\n",
              "    </tr>\n",
              "    <tr>\n",
              "      <th>GSM5659266</th>\n",
              "      <td>0.923499</td>\n",
              "      <td>False</td>\n",
              "      <td>2.0</td>\n",
              "    </tr>\n",
              "    <tr>\n",
              "      <th>GSM5659267</th>\n",
              "      <td>0.937779</td>\n",
              "      <td>True</td>\n",
              "      <td>2.0</td>\n",
              "    </tr>\n",
              "    <tr>\n",
              "      <th>GSM5659268</th>\n",
              "      <td>0.930018</td>\n",
              "      <td>False</td>\n",
              "      <td>3.0</td>\n",
              "    </tr>\n",
              "    <tr>\n",
              "      <th>GSM5659269</th>\n",
              "      <td>0.933518</td>\n",
              "      <td>True</td>\n",
              "      <td>3.0</td>\n",
              "    </tr>\n",
              "    <tr>\n",
              "      <th>GSM5659270</th>\n",
              "      <td>0.941234</td>\n",
              "      <td>True</td>\n",
              "      <td>4.0</td>\n",
              "    </tr>\n",
              "    <tr>\n",
              "      <th>GSM5659271</th>\n",
              "      <td>0.931634</td>\n",
              "      <td>False</td>\n",
              "      <td>4.0</td>\n",
              "    </tr>\n",
              "    <tr>\n",
              "      <th>GSM5659272</th>\n",
              "      <td>0.937788</td>\n",
              "      <td>True</td>\n",
              "      <td>5.0</td>\n",
              "    </tr>\n",
              "    <tr>\n",
              "      <th>GSM5659273</th>\n",
              "      <td>0.920090</td>\n",
              "      <td>False</td>\n",
              "      <td>5.0</td>\n",
              "    </tr>\n",
              "    <tr>\n",
              "      <th>GSM5659274</th>\n",
              "      <td>0.916145</td>\n",
              "      <td>False</td>\n",
              "      <td>6.0</td>\n",
              "    </tr>\n",
              "    <tr>\n",
              "      <th>GSM5659275</th>\n",
              "      <td>0.925822</td>\n",
              "      <td>True</td>\n",
              "      <td>6.0</td>\n",
              "    </tr>\n",
              "    <tr>\n",
              "      <th>GSM5659276</th>\n",
              "      <td>0.921255</td>\n",
              "      <td>True</td>\n",
              "      <td>7.0</td>\n",
              "    </tr>\n",
              "    <tr>\n",
              "      <th>GSM5659277</th>\n",
              "      <td>0.908602</td>\n",
              "      <td>False</td>\n",
              "      <td>7.0</td>\n",
              "    </tr>\n",
              "  </tbody>\n",
              "</table>\n",
              "</div>\n",
              "      <button class=\"colab-df-convert\" onclick=\"convertToInteractive('df-6141e09a-2143-4aee-a1c0-f70549afde01')\"\n",
              "              title=\"Convert this dataframe to an interactive table.\"\n",
              "              style=\"display:none;\">\n",
              "        \n",
              "  <svg xmlns=\"http://www.w3.org/2000/svg\" height=\"24px\"viewBox=\"0 0 24 24\"\n",
              "       width=\"24px\">\n",
              "    <path d=\"M0 0h24v24H0V0z\" fill=\"none\"/>\n",
              "    <path d=\"M18.56 5.44l.94 2.06.94-2.06 2.06-.94-2.06-.94-.94-2.06-.94 2.06-2.06.94zm-11 1L8.5 8.5l.94-2.06 2.06-.94-2.06-.94L8.5 2.5l-.94 2.06-2.06.94zm10 10l.94 2.06.94-2.06 2.06-.94-2.06-.94-.94-2.06-.94 2.06-2.06.94z\"/><path d=\"M17.41 7.96l-1.37-1.37c-.4-.4-.92-.59-1.43-.59-.52 0-1.04.2-1.43.59L10.3 9.45l-7.72 7.72c-.78.78-.78 2.05 0 2.83L4 21.41c.39.39.9.59 1.41.59.51 0 1.02-.2 1.41-.59l7.78-7.78 2.81-2.81c.8-.78.8-2.07 0-2.86zM5.41 20L4 18.59l7.72-7.72 1.47 1.35L5.41 20z\"/>\n",
              "  </svg>\n",
              "      </button>\n",
              "      \n",
              "  <style>\n",
              "    .colab-df-container {\n",
              "      display:flex;\n",
              "      flex-wrap:wrap;\n",
              "      gap: 12px;\n",
              "    }\n",
              "\n",
              "    .colab-df-convert {\n",
              "      background-color: #E8F0FE;\n",
              "      border: none;\n",
              "      border-radius: 50%;\n",
              "      cursor: pointer;\n",
              "      display: none;\n",
              "      fill: #1967D2;\n",
              "      height: 32px;\n",
              "      padding: 0 0 0 0;\n",
              "      width: 32px;\n",
              "    }\n",
              "\n",
              "    .colab-df-convert:hover {\n",
              "      background-color: #E2EBFA;\n",
              "      box-shadow: 0px 1px 2px rgba(60, 64, 67, 0.3), 0px 1px 3px 1px rgba(60, 64, 67, 0.15);\n",
              "      fill: #174EA6;\n",
              "    }\n",
              "\n",
              "    [theme=dark] .colab-df-convert {\n",
              "      background-color: #3B4455;\n",
              "      fill: #D2E3FC;\n",
              "    }\n",
              "\n",
              "    [theme=dark] .colab-df-convert:hover {\n",
              "      background-color: #434B5C;\n",
              "      box-shadow: 0px 1px 3px 1px rgba(0, 0, 0, 0.15);\n",
              "      filter: drop-shadow(0px 1px 2px rgba(0, 0, 0, 0.3));\n",
              "      fill: #FFFFFF;\n",
              "    }\n",
              "  </style>\n",
              "\n",
              "      <script>\n",
              "        const buttonEl =\n",
              "          document.querySelector('#df-6141e09a-2143-4aee-a1c0-f70549afde01 button.colab-df-convert');\n",
              "        buttonEl.style.display =\n",
              "          google.colab.kernel.accessAllowed ? 'block' : 'none';\n",
              "\n",
              "        async function convertToInteractive(key) {\n",
              "          const element = document.querySelector('#df-6141e09a-2143-4aee-a1c0-f70549afde01');\n",
              "          const dataTable =\n",
              "            await google.colab.kernel.invokeFunction('convertToInteractive',\n",
              "                                                     [key], {});\n",
              "          if (!dataTable) return;\n",
              "\n",
              "          const docLinkHtml = 'Like what you see? Visit the ' +\n",
              "            '<a target=\"_blank\" href=https://colab.research.google.com/notebooks/data_table.ipynb>data table notebook</a>'\n",
              "            + ' to learn more about interactive tables.';\n",
              "          element.innerHTML = '';\n",
              "          dataTable['output_type'] = 'display_data';\n",
              "          await google.colab.output.renderOutput(dataTable, element);\n",
              "          const docLink = document.createElement('div');\n",
              "          docLink.innerHTML = docLinkHtml;\n",
              "          element.appendChild(docLink);\n",
              "        }\n",
              "      </script>\n",
              "    </div>\n",
              "  </div>\n",
              "  "
            ]
          },
          "metadata": {},
          "execution_count": 23
        }
      ]
    },
    {
      "cell_type": "markdown",
      "source": [
        "## Visualise the two samples, ignoring paired-ness"
      ],
      "metadata": {
        "id": "ayb568YX_aSF"
      }
    },
    {
      "cell_type": "code",
      "source": [
        "ax = sns.boxplot(\n",
        "    data=df_twinset_brg1,\n",
        "    x='disease_state',\n",
        "    # hue='twin_set',\n",
        "    y='cg17094383',    \n",
        ")\n",
        "\n",
        "# ax.get_legend().remove()"
      ],
      "metadata": {
        "colab": {
          "base_uri": "https://localhost:8080/",
          "height": 446
        },
        "id": "FyCbH-L_0mnV",
        "outputId": "89f5c02e-d306-4066-f14d-20f36c87b536"
      },
      "execution_count": null,
      "outputs": [
        {
          "output_type": "display_data",
          "data": {
            "text/plain": [
              "<Figure size 1440x720 with 1 Axes>"
            ],
            "image/png": "[encoded data removed]"
          },
          "metadata": {}
        }
      ]
    },
    {
      "cell_type": "markdown",
      "source": [
        "This does not look like a good difference of means"
      ],
      "metadata": {
        "id": "PguVkS2vskbj"
      }
    },
    {
      "cell_type": "markdown",
      "source": [
        "## Visualise the distribution of samples"
      ],
      "metadata": {
        "id": "FVy0r3_NAS2g"
      }
    },
    {
      "cell_type": "code",
      "source": [
        "ax = sns.displot(\n",
        "    data=df_twinset_brg1,\n",
        "    x='cg17094383',\n",
        "    hue='disease_state',\n",
        "    bins=10,\n",
        "    kind='hist',\n",
        ")"
      ],
      "metadata": {
        "colab": {
          "base_uri": "https://localhost:8080/",
          "height": 339
        },
        "id": "2Wf_mDoWCHGw",
        "outputId": "4d885c5a-3018-4c74-98d7-97a82c43c518"
      },
      "execution_count": null,
      "outputs": [
        {
          "output_type": "display_data",
          "data": {
            "text/plain": [
              "<Figure size 541.725x360 with 1 Axes>"
            ],
            "image/png": "[encoded data removed]"
          },
          "metadata": {}
        }
      ]
    },
    {
      "cell_type": "markdown",
      "source": [
        "## Visualise samples with paired-ness"
      ],
      "metadata": {
        "id": "8lSDPWeJ_gaW"
      }
    },
    {
      "cell_type": "code",
      "source": [
        "ax = sns.pointplot(\n",
        "    data=df_twinset_brg1,\n",
        "    x='disease_state',\n",
        "    hue='twin_set',\n",
        "    y='cg17094383',    \n",
        ")\n",
        "\n",
        "ax.get_legend().remove()"
      ],
      "metadata": {
        "colab": {
          "base_uri": "https://localhost:8080/",
          "height": 446
        },
        "id": "Q2bx599q1P78",
        "outputId": "4f901143-ea90-4128-9271-329785cc9fdc"
      },
      "execution_count": null,
      "outputs": [
        {
          "output_type": "display_data",
          "data": {
            "text/plain": [
              "<Figure size 1440x720 with 1 Axes>"
            ],
            "image/png": "[encoded data removed]"
          },
          "metadata": {}
        }
      ]
    },
    {
      "cell_type": "markdown",
      "source": [
        "# Test for normality\n",
        "\n",
        "* We didn't use this for our synthetic data because we had preset the distribution.\n",
        "* For real world data, one must test for normality\n",
        "\n"
      ],
      "metadata": {
        "id": "t0Q7bMAB_nmI"
      }
    },
    {
      "cell_type": "code",
      "source": [
        "# tests for normality\n",
        "# The Shapiro-Wilk test tests the null hypothesis that the data was drawn from a normal distribution.\n",
        "\n",
        "from scipy.stats import shapiro\n",
        "\n",
        "print('diseaseFalse', shapiro(\n",
        "    df_twinset_brg1.loc[~df_twinset_brg1.disease_state].iloc[:,0].values,\n",
        "))\n",
        "\n",
        "print('diseaseTrue', shapiro(\n",
        "    df_twinset_brg1.loc[df_twinset_brg1.disease_state].iloc[:,0].values,\n",
        "))"
      ],
      "metadata": {
        "colab": {
          "base_uri": "https://localhost:8080/"
        },
        "id": "Uv93Fqhtxeiu",
        "outputId": "f51eb3fb-f307-4521-ebd6-7659bebd8662"
      },
      "execution_count": null,
      "outputs": [
        {
          "output_type": "stream",
          "name": "stdout",
          "text": [
            "diseaseFalse ShapiroResult(statistic=0.9595460295677185, pvalue=0.8148298859596252)\n",
            "diseaseTrue ShapiroResult(statistic=0.8794264793395996, pvalue=0.22391445934772491)\n"
          ]
        }
      ]
    },
    {
      "cell_type": "markdown",
      "source": [
        "Since P-value is >> 0.05, we accept the two null hypotheses that:\n",
        "\n",
        "1. the Healthy sample is indistinguishable from a normal distribution\n",
        "2. the Disease sample is indistinguishable from a normal distribution"
      ],
      "metadata": {
        "id": "iqN-MZSU_vlE"
      }
    },
    {
      "cell_type": "markdown",
      "source": [
        "## paired t-test\n",
        "\n",
        "`scipy.stats.ttest_rel(a, b)`\n",
        "\n",
        "test takes two arrays of paired subjects\n",
        "\n",
        "Assumptions\n",
        "\n",
        "* dependent data must be continuous data (YES)\n",
        "* observations are independent (YES)\n",
        "* The dependent variable should be approximately normally distributed (YES)\n",
        "\n",
        "\n",
        "If not normally distributed, we would have to use the Wilcoxon signed rank test.\n",
        "\n",
        "The Wilcoxon signed-rank test tests the null hypothesis that two related paired samples come from the same distribution. In particular, it tests whether the distribution of the differences x - y is symmetric about zero. It is a non-parametric version of the paired T-test."
      ],
      "metadata": {
        "id": "hKehMdLSSL27"
      }
    },
    {
      "cell_type": "code",
      "source": [
        "a = df_twinset_brg1.loc[~df_twinset_brg1.disease_state, 'cg17094383'].values\n",
        "b = df_twinset_brg1.loc[df_twinset_brg1.disease_state, 'cg17094383'].values\n",
        "\n",
        "sps.ttest_rel(a,b)"
      ],
      "metadata": {
        "colab": {
          "base_uri": "https://localhost:8080/"
        },
        "id": "yvGSYqqKSM60",
        "outputId": "155d6d35-2baf-44cd-f63f-a2dc945fbc52"
      },
      "execution_count": null,
      "outputs": [
        {
          "output_type": "execute_result",
          "data": {
            "text/plain": [
              "Ttest_relResult(statistic=-3.580526118870551, pvalue=0.011635729171796508)"
            ]
          },
          "metadata": {},
          "execution_count": 332
        }
      ]
    },
    {
      "cell_type": "code",
      "source": [
        "# this illustrates what happens if one could increase the sample size by double.\n",
        "\n",
        "sps.ttest_rel(\n",
        "    np.hstack([a,a]),\n",
        "    np.hstack([b,b]),\n",
        ")"
      ],
      "metadata": {
        "colab": {
          "base_uri": "https://localhost:8080/"
        },
        "id": "SOtpo4ip_7kw",
        "outputId": "d38773c0-b76e-4678-ef02-d52f2344100d"
      },
      "execution_count": null,
      "outputs": [
        {
          "output_type": "execute_result",
          "data": {
            "text/plain": [
              "Ttest_relResult(statistic=-5.27039174291761, pvalue=0.00015142040267497532)"
            ]
          },
          "metadata": {},
          "execution_count": 348
        }
      ]
    },
    {
      "cell_type": "code",
      "source": [
        "# if not normally distributed, we could have used the Wilcoxon signed rank test\n",
        "\n",
        "sps.wilcoxon(a,b)"
      ],
      "metadata": {
        "colab": {
          "base_uri": "https://localhost:8080/"
        },
        "id": "WxXJqgbc8bUh",
        "outputId": "a4930a0d-1d2a-492c-fef8-90e34406cf74"
      },
      "execution_count": null,
      "outputs": [
        {
          "output_type": "execute_result",
          "data": {
            "text/plain": [
              "WilcoxonResult(statistic=1.0, pvalue=0.03125)"
            ]
          },
          "metadata": {},
          "execution_count": 341
        }
      ]
    },
    {
      "cell_type": "markdown",
      "source": [
        "## Interpretation\n",
        "\n",
        "P-value of 0.0116 although < 0.05 is not that good because:\n",
        "\n",
        "* this was just one of a series of many statistics tests run over >700,000 probes, so will need to correct for multiple hypothesis testing. \n",
        " * In the 700,000+ probes, it is highly likely that one would find some significant results, just by chance. \n",
        " * 1% chance of a anomalous result means one expects to see 7000 such anomalies. \n",
        " * The paper notes this point, and states that `p` would need to be less than `3.6e-8`.\n",
        "* therefore, they needed to subject these hits to further tests and filters:\n",
        " 1. checked by comparing to transcriptomics (downstream orthogonal confirmation?)\n",
        " 1. are pathways surrounding this BRG1 gene affected? (internal consistent with multiple lines of evidence all converging?)\n",
        " 1. do previous studies also suggest this (consensus and reproducibility from literature would suggest this is not a chance finding)\n",
        "\n",
        "*spoiler: most of the final hits were not statistically significant. As a result, they could say that they suggest an influence on psoriasis.*\n"
      ],
      "metadata": {
        "id": "uXileItBVDCN"
      }
    },
    {
      "cell_type": "markdown",
      "source": [
        "# Multiple Hypothesis Testing\n",
        "\n",
        "**General steps:**\n",
        "\n",
        "1. input your list of p-values\n",
        "2. specify the desired family-wise error rate (the degree of false positives that you expect or can accept)\n",
        "3. choose a method from a list (there are pros and cons for each)\n",
        "4. run the command\n",
        "5. receive a list of \"adjusted p-values\" corresponding to each of the original p-values.\n",
        "6. those adjusted p-values below the FWER are considered statistically significant.\n",
        "\n",
        "**Intuition:**\n",
        "\n",
        "The more hypotheses (and hence statistical tests) you test on a dataset, the more likely to find a spurious result, so penalise your p-values accordingly.\n",
        "\n",
        "A larger dataset means your signal has to be even stronger to be significant!\n",
        "\n",
        "**Options in python:**\n",
        "\n",
        "Multipy https://github.com/puolival/multipy\n",
        "\n",
        "statsmodels https://www.statsmodels.org/dev/generated/statsmodels.stats.multitest.multipletests.html"
      ],
      "metadata": {
        "id": "Zlnqed9-Dzru"
      }
    },
    {
      "cell_type": "code",
      "source": [
        ""
      ],
      "metadata": {
        "id": "rmhkx5OQ8VDY"
      },
      "execution_count": null,
      "outputs": []
    }
  ]
}